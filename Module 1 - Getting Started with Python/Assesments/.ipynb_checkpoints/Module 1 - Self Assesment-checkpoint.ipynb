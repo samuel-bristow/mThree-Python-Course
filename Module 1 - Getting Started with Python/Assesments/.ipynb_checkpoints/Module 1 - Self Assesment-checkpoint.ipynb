{
 "cells": [
  {
   "cell_type": "code",
   "execution_count": null,
   "metadata": {},
   "outputs": [],
   "source": [
    "# Sam Bristow\n",
    "# 15/10/2020\n"
   ]
  },
  {
   "cell_type": "code",
   "execution_count": 4,
   "metadata": {},
   "outputs": [
    {
     "name": "stdout",
     "output_type": "stream",
     "text": [
      "Would you like a Small, Medium or Large? lsdhf\n",
      "Sorry i didn't recognise that size, I will assume medium\n",
      "Would you like Brewed, Espresso or Cold Brew? cold brew\n",
      "Would you like to add a flavour Yes or No? yes\n",
      "Hazelnut, Vinilla or Caramel? Vinilla\n",
      "You Ordered:\n",
      "Size :  medium\n",
      "Coffee :  cold brew\n",
      "Flavour :  vinilla\n",
      "Price : $ 5.5\n",
      "Price with tip : $ 6.324999999999999\n"
     ]
    }
   ],
   "source": [
    "price = 0.00\n",
    "size = input(\"Would you like a Small, Medium or Large? \").lower()\n",
    "\n",
    "if size == \"small\":\n",
    "    price = price + 2\n",
    "elif size == \"medium\":\n",
    "    price = price + 3\n",
    "elif size == \"large\":\n",
    "    price = price + 4\n",
    "else:\n",
    "    print(\"Sorry i didn't recognise that size, I will assume medium\")\n",
    "    price = price + 4\n",
    "    size = \"medium\"\n",
    "\n",
    "coffee = input(\"Would you like Brewed, Espresso or Cold Brew? \").lower()\n",
    "\n",
    "if coffee == \"brewed\":\n",
    "    price = price\n",
    "elif coffee == \"espresso\":\n",
    "    price = price + 0.5\n",
    "elif coffee == \"cold brew\":\n",
    "    price = price + 1\n",
    "else:\n",
    "    print(\"Sorry I didnt recognise that type of coffee, I will assume you want brewed.\")\n",
    "    coffee = brewed\n",
    "\n",
    "choice = input(\"Would you like to add a flavour Yes or No? \").lower()\n",
    "\n",
    "if choice == \"yes\":\n",
    "    flavour = input(\"Hazelnut, Vinilla or Caramel? \").lower()\n",
    "    if (flavour == \"hazelnut\") or (flavour == \"vinilla\") or (flavour == \"caramel\"):\n",
    "        price = price + 0.5\n",
    "    else:\n",
    "        print(\"I didn't recognise that flavour so i will assume you dont want one\")\n",
    "        flavour = \"none\"\n",
    "else:\n",
    "    flavour = \"none\"\n",
    "\n",
    "tip_price = price * 1.15\n",
    "\n",
    "print(\"You Ordered:\")\n",
    "print(\"Size : \", size)\n",
    "print(\"Coffee : \", coffee)\n",
    "print(\"Flavour : \", flavour)\n",
    "print(\"Price : $\", price)\n",
    "print(\"Price with tip : $\", tip_price)\n"
   ]
  },
  {
   "cell_type": "code",
   "execution_count": null,
   "metadata": {},
   "outputs": [],
   "source": []
  }
 ],
 "metadata": {
  "kernelspec": {
   "display_name": "Python 3",
   "language": "python",
   "name": "python3"
  },
  "language_info": {
   "codemirror_mode": {
    "name": "ipython",
    "version": 3
   },
   "file_extension": ".py",
   "mimetype": "text/x-python",
   "name": "python",
   "nbconvert_exporter": "python",
   "pygments_lexer": "ipython3",
   "version": "3.7.3"
  }
 },
 "nbformat": 4,
 "nbformat_minor": 2
}
