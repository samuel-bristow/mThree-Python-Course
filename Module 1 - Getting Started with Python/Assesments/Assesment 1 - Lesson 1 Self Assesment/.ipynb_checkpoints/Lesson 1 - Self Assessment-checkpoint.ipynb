{
 "cells": [
  {
   "cell_type": "code",
   "execution_count": 1,
   "metadata": {},
   "outputs": [
    {
     "name": "stdout",
     "output_type": "stream",
     "text": [
      "What is your first name?Sam\n",
      "What is your second name?Bristow\n",
      "What is your phone number?123456\n",
      "What year were you born?1998\n",
      "First name:\n",
      "Sam\n",
      "Second name:\n",
      "Bristow\n",
      "Phone number:\n",
      "123456\n",
      "Year born:\n",
      "1998\n"
     ]
    }
   ],
   "source": [
    "#Sam Bristow\n",
    "#14/10/2020\n",
    "\n",
    "first_name = input(\"What is your first name?\")\n",
    "second_name = input(\"What is your second name?\")\n",
    "phone_number = input(\"What is your phone number?\")\n",
    "year_born = input(\"What year were you born?\")\n",
    "\n",
    "print(\"First name:\")\n",
    "print(first_name)\n",
    "print(\"Second name:\")\n",
    "print(second_name)\n",
    "print(\"Phone number:\")\n",
    "print(phone_number)\n",
    "print(\"Year born:\")\n",
    "print(year_born)"
   ]
  },
  {
   "cell_type": "code",
   "execution_count": null,
   "metadata": {},
   "outputs": [],
   "source": []
  }
 ],
 "metadata": {
  "kernelspec": {
   "display_name": "Python 3",
   "language": "python",
   "name": "python3"
  },
  "language_info": {
   "codemirror_mode": {
    "name": "ipython",
    "version": 3
   },
   "file_extension": ".py",
   "mimetype": "text/x-python",
   "name": "python",
   "nbconvert_exporter": "python",
   "pygments_lexer": "ipython3",
   "version": "3.7.3"
  }
 },
 "nbformat": 4,
 "nbformat_minor": 2
}
