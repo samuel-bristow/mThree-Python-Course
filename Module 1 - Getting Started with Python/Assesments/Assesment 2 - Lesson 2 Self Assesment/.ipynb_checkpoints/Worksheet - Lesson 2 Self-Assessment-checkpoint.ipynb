{
 "cells": [
  {
   "cell_type": "markdown",
   "metadata": {},
   "source": [
    "# Lesson 2 Self-Assessment\n",
    "\n",
    "## Instructions\n",
    "Write a script that performs the following steps:\n",
    "\n",
    "* Collect the following individual pieces of data from the user:\n",
    "    * First name\n",
    "    * Last name\n",
    "    * City where they live\n",
    "    * Their hourly wage\n",
    "    * The number of hours they work each week\n",
    "* Based on the data input, present the following information in a format similar to that shown below:\n",
    "\n",
    "<pre>Hi, Firstname Lastname! How are you?\n",
    "I hope the weather is nice in City.\n",
    "Based on the information you provided, you earn X dollars per week, approximately Y dollars per month, and Z dollars per year.</pre>\n",
    "\n",
    "## Requirements\n",
    "\n",
    "* Add your name and the current date in a comment on the first line.\n",
    "* The user can enter the text values using any case they wish, but the output must have only the first letter of each name and city capitalized.\n",
    "    * For example, if the user enters john, JOHN, or joHn as their first name, the output should be John.\n",
    "* Assume that there are four weeks in each month, but the yearly calculation should be based on a full year.\n",
    "* Use correct spelling and punctuation in all user prompts and output.\n",
    "\t\n",
    "Write the code on your own and verify that it produces the expected outcome and runs without error. When testing the program, ensure that the user can enter their name and city in any case they wish and the output will always use appropriate case.\n",
    "\n",
    "**Tip**: This program includes many individual steps. It would help to write a flow chart that outlines what steps the program should take, even before you start to write code. Also remember that you don't have to write the entire program in the first attempt. Instead, break it down into steps you know how to do and do those first, which will build your self-confidence. Tackle the more difficult steps after you've done the easy ones.\n",
    "\n",
    "## Self-Check\n",
    "\n",
    "Use the following checklist to verify that you have met all requirements for this activity:\n",
    "\n",
    "* Your name and a current date appear as a comment on the first line of code.\n",
    "* The program prompts the user for five different pieces of data: first name, last name, city, hourly wage, and number of hours worked per week.\n",
    "* The user can enter their name and city using any case and the output will capitalize only the first letter.\n",
    "* The program performs three different operations based on the hourly wage and the number of hours worked per week.\n",
    "* The program displays the person's wages per week, per month, and per year."
   ]
  },
  {
   "cell_type": "code",
   "execution_count": 6,
   "metadata": {},
   "outputs": [
    {
     "name": "stdout",
     "output_type": "stream",
     "text": [
      "What is your first name? sam\n",
      "What is your last name? bristow\n",
      "Where do you live? finmere\n",
      "What is your hourly wage? £5\n",
      "How many hours do you work in a week? 40\n",
      "Hi, Sam  Bristow ! How are you?\n",
      "I hope the weather is nice in Finmere\n",
      "Based on the information you provided, you earn 200.0 pounds per week, approximately 800.0 pounds per month and 10400.0 pounds per year.\n"
     ]
    }
   ],
   "source": [
    "# Sam Bristow\n",
    "# 15/10/2020\n",
    "\n",
    "first_name_input = input(\"What is your first name? \")\n",
    "last_name_input = input(\"What is your last name? \")\n",
    "city_input = input(\"Where do you live? \")\n",
    "wage_input = input(\"What is your hourly wage? £\")\n",
    "hours_input = input(\"How many hours do you work in a week? \")\n",
    "\n",
    "first_name = first_name_input[0].upper() + first_name_input[1:].lower()\n",
    "last_name = last_name_input[0].upper() + last_name_input[1:].lower()\n",
    "city = city_input[0].upper() + city_input[1:].lower()\n",
    "wage = float(wage_input)\n",
    "hours = float(hours_input)\n",
    "weekly_wage = wage * hours\n",
    "monthly_wage = weekly_wage * 4\n",
    "yearly_wage = weekly_wage * 52\n",
    "\n",
    "print(\"Hi,\", first_name, \"\", last_name, \"! How are you?\")\n",
    "print(\"I hope the weather is nice in\", city)\n",
    "print(\"Based on the information you provided, you earn\", weekly_wage, \"pounds per week, approximately\",\\\n",
    "     monthly_wage, \"pounds per month and\", yearly_wage, \"pounds per year.\")\n"
   ]
  },
  {
   "cell_type": "code",
   "execution_count": null,
   "metadata": {},
   "outputs": [],
   "source": []
  }
 ],
 "metadata": {
  "kernelspec": {
   "display_name": "Python 3",
   "language": "python",
   "name": "python3"
  },
  "language_info": {
   "codemirror_mode": {
    "name": "ipython",
    "version": 3
   },
   "file_extension": ".py",
   "mimetype": "text/x-python",
   "name": "python",
   "nbconvert_exporter": "python",
   "pygments_lexer": "ipython3",
   "version": "3.7.3"
  }
 },
 "nbformat": 4,
 "nbformat_minor": 2
}
