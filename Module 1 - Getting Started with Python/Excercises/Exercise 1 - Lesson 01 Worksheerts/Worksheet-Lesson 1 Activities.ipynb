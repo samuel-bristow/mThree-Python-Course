{
 "cells": [
  {
   "cell_type": "markdown",
   "metadata": {},
   "source": [
    "# M1 Lesson 1 Activities\n",
    "The activities in this page are designed to test your ability to meet the objectives for Lesson 1, including:\n",
    "1.\tCreate one-line and multiline expressions to perform basic tasks in Python.\n",
    "2.\tInclude comments in a Python program.\n",
    "3.\tDeclare and use variables in a Python program.\n",
    "4.\tWrite a Python program that accepts user input."
   ]
  },
  {
   "cell_type": "markdown",
   "metadata": {},
   "source": [
    "## Activity 1\n",
    "Each of the code blocks below includes at least one error that will prevent it from running. Fix the errors and test to make sure the code runs as expected. Comments at the top of each block will tell you what the code should do. \n",
    "(Objectives 1, 3)"
   ]
  },
  {
   "cell_type": "code",
   "execution_count": 6,
   "metadata": {},
   "outputs": [
    {
     "name": "stdout",
     "output_type": "stream",
     "text": [
      "Python is fun!\n"
     ]
    }
   ],
   "source": [
    "# display the text in quotation marks to an output block\n",
    "print(\"Python is fun!\")"
   ]
  },
  {
   "cell_type": "code",
   "execution_count": 2,
   "metadata": {},
   "outputs": [
    {
     "name": "stdout",
     "output_type": "stream",
     "text": [
      "Python is fun!\n",
      "Python is also easy.\n"
     ]
    }
   ],
   "source": [
    "# Display the text in quotation marks to an output block \n",
    "# without moving any of the existing code to a different line\n",
    "print(\"Python is fun!\"); print(\"Python is also easy.\")"
   ]
  },
  {
   "cell_type": "code",
   "execution_count": 4,
   "metadata": {},
   "outputs": [
    {
     "name": "stdout",
     "output_type": "stream",
     "text": [
      "Python is fun!\n"
     ]
    }
   ],
   "source": [
    "# Display the text in quotation marks to an output block \n",
    "# without moving any of the existing code to a different line\n",
    "print \\\n",
    "(\"Python is fun!\")"
   ]
  },
  {
   "cell_type": "code",
   "execution_count": 5,
   "metadata": {},
   "outputs": [
    {
     "name": "stdout",
     "output_type": "stream",
     "text": [
      "Rebecca\n",
      "Roberts\n"
     ]
    }
   ],
   "source": [
    "# Change each variable name to an appropriate name for Python. \n",
    "# Do not use the same variable name more than one time.\n",
    "first_name = \"Rebecca\" # first name\n",
    "last_name = \"Roberts\" # last name\n",
    "\n",
    "# After changing the variable names, update the code below \n",
    "#to print out each name.\n",
    "print(first_name)\n",
    "print(last_name)"
   ]
  },
  {
   "cell_type": "markdown",
   "metadata": {},
   "source": [
    "## Activity 2\n",
    "Starting with the code blocks provided below, add to the code as needed to follow the instructions in the comments. You may add necessary code, but you should not delete any of the existing code. Run each block to make sure it works as expected before going to the next block. "
   ]
  },
  {
   "cell_type": "code",
   "execution_count": 7,
   "metadata": {},
   "outputs": [
    {
     "name": "stdout",
     "output_type": "stream",
     "text": [
      "I love Python!\n"
     ]
    }
   ],
   "source": [
    "# Add a new line of code that displays the text in quotation marks \n",
    "# to an output block without repeating the text in quotation marks.\n",
    "output = \"I love Python!\"\n",
    "\n",
    "# your code below this line\n",
    "print(output)"
   ]
  },
  {
   "cell_type": "code",
   "execution_count": 8,
   "metadata": {},
   "outputs": [
    {
     "name": "stdout",
     "output_type": "stream",
     "text": [
      "Python is fun!\n"
     ]
    }
   ],
   "source": [
    "# Display only the text Python is fun! to an output block \n",
    "# without deleting any of the existing code\n",
    "print(\"Python is fun!\")\n",
    "#print(\"Python is also easy!\")"
   ]
  },
  {
   "cell_type": "markdown",
   "metadata": {},
   "source": [
    "## Activity 3\n",
    "Create a script that prompts the user for the name of the state where they were born and the name of the state where they live now. Save each value in its own variable and display the input values to the user."
   ]
  },
  {
   "cell_type": "code",
   "execution_count": 9,
   "metadata": {},
   "outputs": [
    {
     "name": "stdout",
     "output_type": "stream",
     "text": [
      "Which state were you born in?Texas\n",
      "Which state do you currently live in?Florida\n",
      "Texas\n",
      "Florida\n"
     ]
    }
   ],
   "source": [
    "# your code here\n",
    "birth_state = input(\"Which state were you born in?\")\n",
    "living_state = input(\"Which state do you currently live in?\")\n",
    "\n",
    "print(birth_state)\n",
    "print(living_state)"
   ]
  },
  {
   "cell_type": "code",
   "execution_count": null,
   "metadata": {},
   "outputs": [],
   "source": []
  }
 ],
 "metadata": {
  "kernelspec": {
   "display_name": "Python 3",
   "language": "python",
   "name": "python3"
  },
  "language_info": {
   "codemirror_mode": {
    "name": "ipython",
    "version": 3
   },
   "file_extension": ".py",
   "mimetype": "text/x-python",
   "name": "python",
   "nbconvert_exporter": "python",
   "pygments_lexer": "ipython3",
   "version": "3.7.3"
  }
 },
 "nbformat": 4,
 "nbformat_minor": 2
}
