{
 "cells": [
  {
   "cell_type": "markdown",
   "metadata": {},
   "source": [
    "# Worksheet: Numbers and Number Operations\n",
    "This worksheet includes the practice activities for *Lesson 2A: Numbers and Number Operations* in the online course. Refer to that lesson as necessary to complete these activities."
   ]
  },
  {
   "cell_type": "markdown",
   "metadata": {},
   "source": [
    "## Practice 1 \n",
    "Create these variables:\n",
    "* One variable to store the number of days in a year\n",
    "* One variable to store the number of minutes in a day\n",
    "* Two variables to store the latitude and longitude of the city where you live \n",
    "\n",
    "You can use the [LatLong.net](https://www.latlong.net/) website to retrieve the latitude and longitude values of your city. "
   ]
  },
  {
   "cell_type": "code",
   "execution_count": 1,
   "metadata": {},
   "outputs": [],
   "source": [
    "# your code here\n",
    "days = 365\n",
    "minutes = 1440\n",
    "latt = 51.991\n",
    "long = -1.075"
   ]
  },
  {
   "cell_type": "markdown",
   "metadata": {},
   "source": [
    "## Practice 2\n",
    "* Modify the code below so that Python displays the type for each of the variables.\n",
    "* Create a new variable that uses only numeric characters, but define it as a string. Use `type` to verify that Python treats it as a string."
   ]
  },
  {
   "cell_type": "code",
   "execution_count": 4,
   "metadata": {},
   "outputs": [
    {
     "name": "stdout",
     "output_type": "stream",
     "text": [
      "33\n",
      "<class 'int'>\n",
      "0.06\n",
      "<class 'float'>\n",
      "(1+3.4j)\n",
      "<class 'complex'>\n",
      "2020\n",
      "<class 'str'>\n"
     ]
    }
   ],
   "source": [
    "age = 33 #integer \n",
    "tax_rate = 0.06  #float type\n",
    "coordinates = 1+3.4j #complex type z : a+b*j\n",
    "year = \"2020\"\n",
    "print(age)\n",
    "print(type(age))\n",
    "print(tax_rate)\n",
    "print(type(tax_rate))\n",
    "print(coordinates)\n",
    "print(type(coordinates))\n",
    "print(year)\n",
    "print(type(year))"
   ]
  },
  {
   "cell_type": "markdown",
   "metadata": {},
   "source": [
    "## Practice 3\n",
    "Create a Python script that starts with three declared values, `a`, `b`, and `c`, with numeric values of your choice.\n",
    "\n",
    "Using those values, perform the following calculations and print the results of each:\n",
    "\n",
    "* `a` plus `b` minus `c`\n",
    "* `a` minus `b` times `c`\n",
    "* `a` divided by `b` divided by `c`\n",
    "* The remainder of `a` divided by `b` to the power of `c`\n",
    "* `a` plus `c` divided by `b`"
   ]
  },
  {
   "cell_type": "code",
   "execution_count": 6,
   "metadata": {},
   "outputs": [
    {
     "name": "stdout",
     "output_type": "stream",
     "text": [
      "13\n",
      "-43\n",
      "0.10416666666666667\n",
      "5\n",
      "5.333333333333333\n"
     ]
    }
   ],
   "source": [
    "# your code here\n",
    "a = 5\n",
    "b = 12\n",
    "c = 4\n",
    "\n",
    "print(a + b - c)\n",
    "print(a - b * c)\n",
    "print(a / b / c)\n",
    "print(a % b ** c)\n",
    "print(a + c / b)"
   ]
  },
  {
   "cell_type": "markdown",
   "metadata": {},
   "source": [
    "## Practice 4\n",
    "Create a Python script that starts with three declared values, `a`, `b`, and `c`, with numeric values of your choice.\n",
    "\n",
    "Using those values, perform the following calculations and print the results of each. For each calculation, use a single statement that executes the operations in the order described here:\n",
    "\n",
    "* `c` plus `a`, minus `b`\n",
    "* `c` minus `a`, times `b`\n",
    "* `c` divided by `a`, with the result divided by `b`\n",
    "* The remainder of `c` divided by `a`, then the remainder to the power of `b`\n",
    "* `c` plus `b`, divided by `a`\n"
   ]
  },
  {
   "cell_type": "code",
   "execution_count": 7,
   "metadata": {},
   "outputs": [
    {
     "name": "stdout",
     "output_type": "stream",
     "text": [
      "-3\n",
      "-12\n",
      "0.06666666666666667\n",
      "16777216\n",
      "3.2\n"
     ]
    }
   ],
   "source": [
    "# your code here\n",
    "a = 5\n",
    "b = 12\n",
    "c = 4\n",
    "\n",
    "print((c + a) - b)\n",
    "print((c - a) * b)\n",
    "print((c / a) / b)\n",
    "print((c % a) ** b)\n",
    "print((c + b) / a)"
   ]
  },
  {
   "cell_type": "markdown",
   "metadata": {},
   "source": [
    "## Practice 5\n",
    "Create a series of variables, `a`, `b`, and `c`, using float values of your choice.\n",
    "\n",
    "Create expressions that perform the following calculations:\n",
    "* `a` multiplied by `c`, with the result rounded up to the closest integer\n",
    "* `a` divided by `b`, with the result rounded down to the closest integer\n",
    "* The square root of `b`, rounded to three decimal places\n",
    "* `c` plus `b`, divided by `a`, with the result rounded up to the closest integer\n",
    "* The binary equivalent of `b` rounded to the closest integer"
   ]
  },
  {
   "cell_type": "code",
   "execution_count": 11,
   "metadata": {},
   "outputs": [
    {
     "name": "stdout",
     "output_type": "stream",
     "text": [
      "113\n",
      "1\n",
      "2.5495097567963922\n",
      "2\n",
      "0b110\n"
     ]
    }
   ],
   "source": [
    "# your code here\n",
    "import math as m\n",
    "\n",
    "a = 12.3\n",
    "b = 6.5\n",
    "c = 9.142\n",
    "\n",
    "print(m.ceil(a * c))\n",
    "print(m.floor(a / b))\n",
    "print(m.sqrt(6.5))\n",
    "print(m.ceil((c + b) / a))\n",
    "print(bin(round(b)))"
   ]
  },
  {
   "cell_type": "markdown",
   "metadata": {},
   "source": [
    "## Practice 6\n",
    "Create a Python script that performs the following steps: \n",
    "* Assign a floating point number of your choice to a variable `num1`.\n",
    "* Round `num1` up to the nearest integer and stores the result in a variable `a`.\n",
    "* Assign a second floating point number of your choice to a variable `num2`.\n",
    "* Round `num2` down to the nearest integer and store the result in a variable `b`.\n",
    "* Print the sum of `a` and `b`."
   ]
  },
  {
   "cell_type": "code",
   "execution_count": 12,
   "metadata": {},
   "outputs": [
    {
     "name": "stdout",
     "output_type": "stream",
     "text": [
      "44\n"
     ]
    }
   ],
   "source": [
    "# your code here\n",
    "num1 = 25.63\n",
    "a = round(num1)\n",
    "num2 = 17.58\n",
    "b = round(num2)\n",
    "\n",
    "print(a+b)"
   ]
  },
  {
   "cell_type": "markdown",
   "metadata": {},
   "source": [
    "## Practice 7a\n",
    "Create a script that performs the following steps:\n",
    "1. Prompt the user for a four-digit year.\n",
    "1. Prompt the user to enter an integer of their choice.\n",
    "1. Display the year it will be after that many years from the original input year, with an appropriate feedback message.\n",
    "\n",
    "For example, if the user inputs 2020 and 42, the result should be 2062."
   ]
  },
  {
   "cell_type": "code",
   "execution_count": 13,
   "metadata": {},
   "outputs": [
    {
     "name": "stdout",
     "output_type": "stream",
     "text": [
      "Please enter a year:2020\n",
      "Please enter a number4\n",
      "4  years from  2020 it will be  2024\n"
     ]
    }
   ],
   "source": [
    "# your code here\n",
    "input_year = input(\"Please enter a year:\")\n",
    "input_num = input(\"Please enter a number\")\n",
    "\n",
    "int_year = int(input_year)\n",
    "int_num = int(input_num)\n",
    "\n",
    "new_year = int_year + int_num\n",
    "\n",
    "print(int_num, \" years from \", int_year, \"it will be \", new_year)"
   ]
  },
  {
   "cell_type": "markdown",
   "metadata": {},
   "source": [
    "## Practice 7b\n",
    "Create a script that calculates the sales tax on a purchase and displays the total purchase price.\n",
    "1. Prompt the user for a pre-tax total.\n",
    "1. Prompt the user for the local sales tax.\n",
    "1. Multiply the pre-tax total by the local sales tax and add the result to the pre-tax total.\n",
    "1. Display the total price to the user with an appropriate feedback message.\n",
    "\n",
    "**Tip**: Think about whether `int()` or `float()` would be better here. Why?"
   ]
  },
  {
   "cell_type": "code",
   "execution_count": 14,
   "metadata": {},
   "outputs": [
    {
     "name": "stdout",
     "output_type": "stream",
     "text": [
      "Please enter pre-tax amount10\n",
      "Please enter tax % amount10\n",
      "The total amount is:\n",
      "11.0\n"
     ]
    }
   ],
   "source": [
    "# your code here\n",
    "pre_tax = input(\"Please enter pre-tax amount\")\n",
    "tax_rate = input(\"Please enter tax % amount\")\n",
    "\n",
    "num_pre_tax = float(pre_tax)\n",
    "num_tax_rate = float(tax_rate) / 100\n",
    "\n",
    "total_amount = num_pre_tax * (1 + num_tax_rate)\n",
    "\n",
    "print(\"The total amount is:\")\n",
    "print(total_amount)"
   ]
  },
  {
   "cell_type": "code",
   "execution_count": null,
   "metadata": {},
   "outputs": [],
   "source": []
  }
 ],
 "metadata": {
  "kernelspec": {
   "display_name": "Python 3",
   "language": "python",
   "name": "python3"
  },
  "language_info": {
   "codemirror_mode": {
    "name": "ipython",
    "version": 3
   },
   "file_extension": ".py",
   "mimetype": "text/x-python",
   "name": "python",
   "nbconvert_exporter": "python",
   "pygments_lexer": "ipython3",
   "version": "3.7.3"
  }
 },
 "nbformat": 4,
 "nbformat_minor": 2
}
