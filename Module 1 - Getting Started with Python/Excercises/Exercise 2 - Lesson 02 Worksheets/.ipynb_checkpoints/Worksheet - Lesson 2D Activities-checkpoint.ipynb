{
 "cells": [
  {
   "cell_type": "markdown",
   "metadata": {},
   "source": [
    "# Module 1 - Lesson 2 Activities\n",
    "The activities here will give you the opportunity to practice the skills and tools presented in Lesson 2, with the following objectives:\n",
    "1. Demonstrate the use of a variety of data types in Python, including numbers, booleans, and strings.\n",
    "1. Distinguish between float values, integers, and complex numbers.\n",
    "1. Use Python to perform operations using numbers.\n",
    "1. Use Python to perform logic operations using booleans.\n",
    "1. Use Python to manipulate string values.\n",
    "\n",
    "Software development skills build on each other, so many of the activities here will also require skills and tools presented in earlier lessons."
   ]
  },
  {
   "cell_type": "markdown",
   "metadata": {},
   "source": [
    "## Activity 1\n",
    "Create a program that prompts the user to enter a number and then displays the type of the number entered (e.g., complex, integer, or float). \n",
    "\n",
    "For example, if the user enters `6`, the output should be `int` (for integer). "
   ]
  },
  {
   "cell_type": "code",
   "execution_count": 1,
   "metadata": {},
   "outputs": [
    {
     "name": "stdout",
     "output_type": "stream",
     "text": [
      "Please enter a number: 13.5\n",
      "<class 'str'>\n"
     ]
    }
   ],
   "source": [
    "# your code here\n"
   ]
  },
  {
   "cell_type": "markdown",
   "metadata": {},
   "source": [
    "## Activity 2\n",
    "Update the code below so that the result is equal to 576. Do not change any of the existing values or operators or the order in which they appear."
   ]
  },
  {
   "cell_type": "code",
   "execution_count": 2,
   "metadata": {},
   "outputs": [
    {
     "name": "stdout",
     "output_type": "stream",
     "text": [
      "576\n"
     ]
    }
   ],
   "source": [
    "# do not change the order in which the numbers and operators appear in the next line\n",
    "result = ((5 + 3) ** 2) * 9 \n",
    "\n",
    "print(result) # the output should be 576"
   ]
  },
  {
   "cell_type": "markdown",
   "metadata": {},
   "source": [
    "## Activity 3\n",
    "Create a program that prompts the user for a float number and returns the integer portion of the floating number."
   ]
  },
  {
   "cell_type": "code",
   "execution_count": 7,
   "metadata": {},
   "outputs": [
    {
     "name": "stdout",
     "output_type": "stream",
     "text": [
      "please enter a float: 18.6\n",
      "18\n"
     ]
    }
   ],
   "source": [
    "# your code here\n",
    "import math as m\n",
    "\n",
    "number = input(\"please enter a float: \")\n",
    "\n",
    "float_number = float(number)\n",
    "\n",
    "print(m.trunc(float_number))"
   ]
  },
  {
   "cell_type": "markdown",
   "metadata": {},
   "source": [
    "## Activity 4\n",
    "Write a program that calculates and displays the current value of an investment for a given initial deposit, interest rate, the number of times interest is calculated per year, and the number of years since the initial deposit.\n",
    "\n",
    "The program should prompt the user for each of the values and use the following formula to calculate the current value of the deposit:\n",
    "\n",
    "    V = P(1 + r/n)^nt\n",
    "    \n",
    "Where each letter represents concepts listed below:\n",
    "* `V`: Value\n",
    "* `P`: Initial deposit\n",
    "* `r`: Interest rate as a fraction (e.g., 0.05)\n",
    "* `n`: Number of times per year interest is calculated\n",
    "* `t`: Number of years since the initial deposit\n",
    "\t\n",
    "\t    \n",
    "The program should show the user the results of the calculation and each of the input values in a meaningful way (so that the user can easily tell what each value represents)."
   ]
  },
  {
   "cell_type": "code",
   "execution_count": 8,
   "metadata": {},
   "outputs": [
    {
     "name": "stdout",
     "output_type": "stream",
     "text": [
      "Please enter your initial deposit: 1000\n",
      "Please enter the interest rate as a %: 10\n",
      "Please enter the nuber of times per year interest is calculated: 1\n",
      "Please enter the number of years since the initial deposit: 4\n",
      "1464.1\n"
     ]
    }
   ],
   "source": [
    "# your code here\n",
    "P_input = input(\"Please enter your initial deposit: \")\n",
    "r_input = input(\"Please enter the interest rate as a %: \")\n",
    "n_input = input(\"Please enter the nuber of times per year interest is calculated: \")\n",
    "t_input = input(\"Please enter the number of years since the initial deposit: \")\n",
    "\n",
    "P = float(P_input)\n",
    "r = float(r_input)/100\n",
    "n = int(n_input)\n",
    "t = int(t_input)\n",
    "\n",
    "total = P*((1 + (r / n) ) ** (n * t) )\n",
    "print(round(total,2))"
   ]
  },
  {
   "cell_type": "markdown",
   "metadata": {},
   "source": [
    "## Activity 5\n",
    "Write a program that prompts the user for a principal amount, the rate of interest, and the number of days for a loan, and then calculates and returns the simple interest for the life of the loan. Use the formula below:\n",
    "\n",
    "    interest = principal * rate * days / 365"
   ]
  },
  {
   "cell_type": "code",
   "execution_count": 9,
   "metadata": {},
   "outputs": [
    {
     "name": "stdout",
     "output_type": "stream",
     "text": [
      "Please enter the principal amount: 500\n",
      "Please enter the rate of interest: 0.25\n",
      "Please enter the amount of days for the loan: 30\n",
      "10.273972602739725\n"
     ]
    }
   ],
   "source": [
    "# your code here\n",
    "p_input = input(\"Please enter the principal amount: \")\n",
    "r_input = input(\"Please enter the rate of interest: \")\n",
    "d_input = input(\"Please enter the amount of days for the loan: \")\n",
    "\n",
    "p = float(p_input)\n",
    "r = float(r_input)\n",
    "d = int(d_input)\n",
    "\n",
    "total = p * r * d / 365\n",
    "print(total)"
   ]
  },
  {
   "cell_type": "markdown",
   "metadata": {},
   "source": [
    "## Activity 6\n",
    "Create a program that displays three statements that evaluate to True and three statements that evaluate to False.\n",
    "\n",
    "Example:\n",
    "\n",
    "    a = 0\n",
    "    b = 1 \n",
    "    \n",
    "    Output: a < b = True"
   ]
  },
  {
   "cell_type": "code",
   "execution_count": 10,
   "metadata": {},
   "outputs": [
    {
     "name": "stdout",
     "output_type": "stream",
     "text": [
      "True\n",
      "True\n",
      "True\n",
      "False\n",
      "False\n",
      "False\n"
     ]
    }
   ],
   "source": [
    "# your code here\n",
    "a = 2\n",
    "b = 3\n",
    "c = 4\n",
    "\n",
    "print(b > a)\n",
    "print(a != c)\n",
    "print(b < c)\n",
    "\n",
    "print(a > c)\n",
    "print(b == c)\n",
    "print((a + b) == c)"
   ]
  },
  {
   "cell_type": "markdown",
   "metadata": {},
   "source": [
    "## Activity 7\n",
    "Create a program that prompts the user for a number and calculates the following:\n",
    "* The boolean of the number entered\n",
    "* The binary equivalent of the number entered\n",
    "* The square root of the number entered\n",
    "\n",
    "The program should display the following to the user:\n",
    "* The number the user entered, in a phrase like, \"You selected `value`.\"\n",
    "* The boolean of the number, in a phrase like, \"The boolean of your number is `value`.\"\n",
    "* The binary equivalent of the number, in a phrase like, \"The binary equivalent of your number is `value`.\"\n",
    "* The square root of the number, with the value rounded to three decimal places, in a phrase like, \"The square root of your number is `value`.\""
   ]
  },
  {
   "cell_type": "code",
   "execution_count": 14,
   "metadata": {},
   "outputs": [
    {
     "name": "stdout",
     "output_type": "stream",
     "text": [
      "Please input a number: 9\n",
      "True\n",
      "0b1001\n",
      "3.0\n"
     ]
    }
   ],
   "source": [
    "# your code here\n",
    "import math as m\n",
    "\n",
    "num_input = input(\"Please input a number: \")\n",
    "\n",
    "num = int(num_input)\n",
    "\n",
    "print(bool(num))\n",
    "print(bin(num))\n",
    "print(m.sqrt(num))\n"
   ]
  },
  {
   "cell_type": "markdown",
   "metadata": {},
   "source": [
    "## Activity 8\n",
    "Create a program that completes the following tasks:\n",
    "1. Prompt the user for a series of five integers. \n",
    "    * The user must be asked for five numbers.\n",
    "1. After the fifth entry, stop prompting for values and calculate the following: \n",
    "    * The product of the integers\n",
    "    * The average of the integers\n",
    "    * The sum of the integers\n",
    "1. After performing the calculations, display the following to the user: \n",
    "    * The values the user entered\n",
    "    * The values of the calculations, using a phrase that identifies the value"
   ]
  },
  {
   "cell_type": "code",
   "execution_count": 16,
   "metadata": {},
   "outputs": [
    {
     "name": "stdout",
     "output_type": "stream",
     "text": [
      "Please input a number: 1\n",
      "Please input a number: 2\n",
      "Please input a number: 3\n",
      "Please input a number: 4\n",
      "Please input a number: 5\n",
      "1\n",
      "2\n",
      "3\n",
      "4\n",
      "5\n",
      "Product:  120\n",
      "Average:  3.0\n",
      "Sum:  15\n"
     ]
    }
   ],
   "source": [
    "# your code here\n",
    "a = int(input(\"Please input a number: \"))\n",
    "b = int(input(\"Please input a number: \"))\n",
    "c = int(input(\"Please input a number: \"))\n",
    "d = int(input(\"Please input a number: \"))\n",
    "e = int(input(\"Please input a number: \"))\n",
    "\n",
    "product = a*b*c*d*e\n",
    "average = (a+b+c+d+e)/5\n",
    "sum_total = a+b+c+d+e\n",
    "\n",
    "print(a)\n",
    "print(b)\n",
    "print(c)\n",
    "print(d)\n",
    "print(e)\n",
    "print(\"Product: \", product)\n",
    "print(\"Average: \", average)\n",
    "print(\"Sum: \", sum_total)\n",
    "\n",
    "\n"
   ]
  },
  {
   "cell_type": "markdown",
   "metadata": {},
   "source": [
    "## Activity 9\n",
    "1. Start with a street address that includes a building/house number, the name of the street, and the type of street (Street, Avenue, Boulevard, etc.). \n",
    "    * You can use any address you wish and abbreviations are acceptable.\n",
    "    * For example: 25 Main Street\n",
    "1. Display the full address to the user.\n",
    "1. Display the house number only in a phrase like, \"The building or house number is 25.\"\n",
    "1. Display the street name in a phrase like, \"The street name is Main Street.\""
   ]
  },
  {
   "cell_type": "code",
   "execution_count": 17,
   "metadata": {},
   "outputs": [
    {
     "name": "stdout",
     "output_type": "stream",
     "text": [
      "25 Main Street\n",
      "House Number:  25\n",
      "Street Name:  Main Street\n"
     ]
    }
   ],
   "source": [
    "# your code here\n",
    "address = \"25 Main Street\"\n",
    "print(address)\n",
    "print(\"House Number: \", address[:2])\n",
    "print(\"Street Name: \", address[3:])"
   ]
  },
  {
   "cell_type": "code",
   "execution_count": null,
   "metadata": {},
   "outputs": [],
   "source": []
  }
 ],
 "metadata": {
  "kernelspec": {
   "display_name": "Python 3",
   "language": "python",
   "name": "python3"
  },
  "language_info": {
   "codemirror_mode": {
    "name": "ipython",
    "version": 3
   },
   "file_extension": ".py",
   "mimetype": "text/x-python",
   "name": "python",
   "nbconvert_exporter": "python",
   "pygments_lexer": "ipython3",
   "version": "3.7.3"
  }
 },
 "nbformat": 4,
 "nbformat_minor": 2
}
