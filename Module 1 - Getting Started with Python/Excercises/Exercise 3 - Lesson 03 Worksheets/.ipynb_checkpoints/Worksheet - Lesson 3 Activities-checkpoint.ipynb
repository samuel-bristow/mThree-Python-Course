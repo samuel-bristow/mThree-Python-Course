{
 "cells": [
  {
   "cell_type": "markdown",
   "metadata": {},
   "source": [
    "# Lesson 3 Activities\n",
    "The following activities are provided to allow you to demonstrate the objectives for this lesson:\n",
    "* Use an `if` statement to determine the outcome of a program.\n",
    "* Use an `if-else` statement to define two potential outcomes.\n",
    "* Use nested `if` statements to define more than two potential outcomes.\n",
    "\n",
    "Complete each activity and make sure that the code runs without errors before completing the next activity."
   ]
  },
  {
   "cell_type": "markdown",
   "metadata": {},
   "source": [
    "## Activity 1\n",
    "Write a program that asks the user how much money they have in their wallet. The program should output \"You're rich!\" if the user inputs 20 or more and \"You're broke!\" if the input is less than 20."
   ]
  },
  {
   "cell_type": "code",
   "execution_count": 4,
   "metadata": {},
   "outputs": [
    {
     "name": "stdout",
     "output_type": "stream",
     "text": [
      "How much money do you have in your wallet? 25\n",
      "Wow you're rich!\n"
     ]
    }
   ],
   "source": [
    "# your code here\n",
    "amount_input = input(\"How much money do you have in your wallet? \")\n",
    "amount = float(amount_input)\n",
    "\n",
    "if amount >= 20:\n",
    "    print(\"Wow you're rich!\")\n",
    "if amount < 20:\n",
    "    print(\"You're broke!\")"
   ]
  },
  {
   "cell_type": "markdown",
   "metadata": {},
   "source": [
    "## Activity 2\n",
    "Write a program that performs the following steps:\n",
    "1. Ask the user if they own any cats. (Yes/No answer)\n",
    "1. Ask the user if they own any dogs. (Yes/No answer)\n",
    "1. If the user responses indicate that they have both cats and dogs, output: \"You must really love pets!\"\n",
    "1. Otherwise, the output should be: \"Maybe you need more pets.\"\n",
    "\n",
    "The last step will apply if the user has cats but not dogs, dogs but not cats, and neither cats nor dogs.\n",
    "\n",
    "Write two different versions of this program: one that uses only `if` statements and another that uses `if-else` statements."
   ]
  },
  {
   "cell_type": "code",
   "execution_count": 9,
   "metadata": {},
   "outputs": [
    {
     "name": "stdout",
     "output_type": "stream",
     "text": [
      "Do you own any cats? (yes/no) no\n",
      "Do you own any dogs? (yes/no) no\n",
      "Maybe you need more pets\n"
     ]
    }
   ],
   "source": [
    "# program using only if statements\n",
    "cats = input(\"Do you own any cats? (yes/no) \")\n",
    "dogs = input(\"Do you own any dogs? (yes/no) \")\n",
    "\n",
    "if (dogs.lower() == \"yes\") and (cats.lower() == \"yes\"):\n",
    "    print(\"You must really love pets!\")\n",
    "if (dogs.lower() == \"no\") or (cats.lower() == \"no\"):\n",
    "    print(\"Maybe you need more pets\")"
   ]
  },
  {
   "cell_type": "code",
   "execution_count": 12,
   "metadata": {},
   "outputs": [
    {
     "name": "stdout",
     "output_type": "stream",
     "text": [
      "Do you own any cats? (yes/no) YES\n",
      "Do you own any dogs? (yes/no) yEs\n",
      "You must really love pets!\n"
     ]
    }
   ],
   "source": [
    "# program using if-else statements\n",
    "# program using only if statements\n",
    "cats = input(\"Do you own any cats? (yes/no) \")\n",
    "dogs = input(\"Do you own any dogs? (yes/no) \")\n",
    "\n",
    "if (dogs.lower() == \"yes\") and (cats.lower() == \"yes\"):\n",
    "    print(\"You must really love pets!\")\n",
    "else:\n",
    "    print(\"Maybe you need more pets\")"
   ]
  },
  {
   "cell_type": "markdown",
   "metadata": {},
   "source": [
    "## Activity 3\n",
    "Create a computer program that asks the user a few questions to which the user will respond either True or False. Display all the questions with the correct answer and the user's answers at the end of the program, along with the user's the correct response rate (number of questions answered correctly/number of questions)."
   ]
  },
  {
   "cell_type": "code",
   "execution_count": 18,
   "metadata": {},
   "outputs": [
    {
     "name": "stdout",
     "output_type": "stream",
     "text": [
      "3 > 4 Ture or False? false\n",
      "A dog is bigger than a mouse True or False? true\n",
      "6 / 3 = 2 True or False? true\n",
      "Answers:\n",
      "False\n",
      "True\n",
      "True\n",
      "You Answered: \n",
      "false\n",
      "true\n",
      "true\n",
      "Your correct response rate was: 1.0\n"
     ]
    }
   ],
   "source": [
    "# your code here\n",
    "\n",
    "q1 = input(\"3 > 4 True or False? \")\n",
    "q2 = input(\"A dog is bigger than a mouse True or False? \")\n",
    "q3 = input(\"6 / 3 = 2 True or False? \")\n",
    "correct = 0 \n",
    "\n",
    "if q1.lower() == \"false\":\n",
    "    correct = correct + 1\n",
    "if q2.lower() == \"true\":\n",
    "    correct = correct + 1\n",
    "if q3.lower() == \"true\":\n",
    "    correct = correct + 1\n",
    "\n",
    "print(\"Answers:\")\n",
    "print(\"False\")\n",
    "print(\"True\")\n",
    "print(\"True\")\n",
    "\n",
    "print(\"You Answered: \")\n",
    "print(q1)\n",
    "print(q2)\n",
    "print(q3)\n",
    "\n",
    "print(\"Your correct response rate was:\", (correct/3))\n",
    "    "
   ]
  },
  {
   "cell_type": "markdown",
   "metadata": {},
   "source": [
    "## Activity 4\n",
    "Write a program that uses `elif` to produce five different possible outcomes based on a single user input.\n",
    "1. Ask the user what season it is (fall, winter, spring, or summer).\n",
    "1. If the user enters fall, output: \"I bet the leaves are pretty there!\"\n",
    "1. If the user enters winter, output: \"I hope you're ready for snow!\"\n",
    "1. If the user enters spring, output: \"I can smell the flowers!\"\n",
    "1. If the user enters summer, output: \"Make sure your AC is working!\"\n",
    "1. If the user enters a value that does not correspond to a season, output: \"I don't recognize that season.\"\n",
    "\n",
    "The user should be able to enter the name of the season in any case and the program will still work.\n",
    "\n",
    "**Challenge**: After you have the program working as describe above, modify the program so that the user can enter either \"fall\" or \"autumn\" and get the same result."
   ]
  },
  {
   "cell_type": "code",
   "execution_count": 3,
   "metadata": {},
   "outputs": [
    {
     "name": "stdout",
     "output_type": "stream",
     "text": [
      "What season is it? ksjdgvs\n",
      "I don't recognize that season.\n"
     ]
    }
   ],
   "source": [
    "# your code here\n",
    "season = input(\"What season is it? \")\n",
    "\n",
    "if season.lower() == \"fall\":\n",
    "    print(\"I bet the leaves are pretty there!\")\n",
    "elif season.lower() == \"winter\":\n",
    "    print(\"I hope you're ready for snow!\")\n",
    "elif season.lower() == \"spring\":\n",
    "    print(\"I can smell the flowers!\")\n",
    "elif season.lower() == \"summer\":\n",
    "    print(\"Make sure your AC is working!\")\n",
    "else:\n",
    "    print(\"I don't recognize that season.\")"
   ]
  }
 ],
 "metadata": {
  "kernelspec": {
   "display_name": "Python 3",
   "language": "python",
   "name": "python3"
  },
  "language_info": {
   "codemirror_mode": {
    "name": "ipython",
    "version": 3
   },
   "file_extension": ".py",
   "mimetype": "text/x-python",
   "name": "python",
   "nbconvert_exporter": "python",
   "pygments_lexer": "ipython3",
   "version": "3.7.3"
  }
 },
 "nbformat": 4,
 "nbformat_minor": 2
}
