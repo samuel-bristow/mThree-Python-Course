{
 "cells": [
  {
   "cell_type": "markdown",
   "metadata": {},
   "source": [
    "# Worksheet: If-Else Statements\n",
    "This worksheet includes the practice activities for `Lesson 3B: If-Else Statements` in the online course. Refer to that lesson as necessary to complete these activities."
   ]
  },
  {
   "cell_type": "markdown",
   "metadata": {},
   "source": [
    "## Practice 1\n",
    "Change the code below to use an `if-else` statement instead of two separate `if` statements."
   ]
  },
  {
   "cell_type": "code",
   "execution_count": 1,
   "metadata": {},
   "outputs": [
    {
     "name": "stdout",
     "output_type": "stream",
     "text": [
      "This person is someone else's sibling.\n"
     ]
    }
   ],
   "source": [
    "name = \"Mary\"\n",
    "if name == \"John\":\n",
    "    print(\"This person is my sibling.\") \n",
    "else:\n",
    "    print(\"This person is someone else's sibling.\")"
   ]
  },
  {
   "cell_type": "markdown",
   "metadata": {},
   "source": [
    "## Practice 2\n",
    "Create a short program that uses an `if-else` statement. \n",
    "\n",
    "You may use any scenarios and conditions you wish."
   ]
  },
  {
   "cell_type": "code",
   "execution_count": 4,
   "metadata": {},
   "outputs": [
    {
     "name": "stdout",
     "output_type": "stream",
     "text": [
      "Please enter your age: 25\n",
      "You are allowed to drink alcohol!\n"
     ]
    }
   ],
   "source": [
    "### your code goes here\n",
    "age_input = input(\"Please enter your age: \")\n",
    "age = int(age_input)\n",
    "\n",
    "if age >= 18:\n",
    "    print(\"You are allowed to drink alcohol!\")\n",
    "else:\n",
    "    print(\"You can't drink alcohole you are too young\")"
   ]
  },
  {
   "cell_type": "markdown",
   "metadata": {},
   "source": [
    "## Practice 3\n",
    "Create a program that does the following:\n",
    "* Prompt the user to enter a single letter. \n",
    "* Check if the entered letter is uppercase or lowercase.\n",
    "    * If the character is uppercase, display the message: \"The user entered an uppercase letter.\"\n",
    "    * If the character is lowercase, display the message: \"The user entered a lowercase letter.\"\n",
    "\n",
    "**Hint**: Python supports the methods `string.isupper()` and `string.islower()` to evaluate the case of characters in a string. Neither method takes arguments."
   ]
  },
  {
   "cell_type": "code",
   "execution_count": 6,
   "metadata": {},
   "outputs": [
    {
     "name": "stdout",
     "output_type": "stream",
     "text": [
      "Please input a letter: A\n",
      "The user entered an uppercase letter\n"
     ]
    }
   ],
   "source": [
    "# Enter your code here.\n",
    "letter = input(\"Please input a letter: \")\n",
    "\n",
    "if letter.isupper():\n",
    "    print(\"The user entered an uppercase letter\")\n",
    "else:\n",
    "    print(\"The user entered a lowercase letter\")"
   ]
  },
  {
   "cell_type": "code",
   "execution_count": null,
   "metadata": {},
   "outputs": [],
   "source": []
  }
 ],
 "metadata": {
  "kernelspec": {
   "display_name": "Python 3",
   "language": "python",
   "name": "python3"
  },
  "language_info": {
   "codemirror_mode": {
    "name": "ipython",
    "version": 3
   },
   "file_extension": ".py",
   "mimetype": "text/x-python",
   "name": "python",
   "nbconvert_exporter": "python",
   "pygments_lexer": "ipython3",
   "version": "3.7.3"
  }
 },
 "nbformat": 4,
 "nbformat_minor": 2
}
