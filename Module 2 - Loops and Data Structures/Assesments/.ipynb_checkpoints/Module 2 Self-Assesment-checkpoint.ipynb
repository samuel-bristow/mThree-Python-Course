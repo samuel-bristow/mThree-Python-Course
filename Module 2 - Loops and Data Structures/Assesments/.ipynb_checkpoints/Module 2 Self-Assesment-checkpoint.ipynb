{
 "cells": [
  {
   "cell_type": "code",
   "execution_count": 1,
   "metadata": {},
   "outputs": [],
   "source": [
    "#Sam Bristow\n",
    "#12/11/2020"
   ]
  },
  {
   "cell_type": "code",
   "execution_count": 2,
   "metadata": {},
   "outputs": [
    {
     "name": "stdout",
     "output_type": "stream",
     "text": [
      "imagine a vast sheet of paper on which straight lines, triangles, squares, pentagons, hexagons, and other figures,\n",
      "instead of remaining fixed in their places, move freely about, on or in the surface, but without the power of rising above\n",
      "or sinking below it, very much like shadows - only hard and with luminous edges - and you will then have a pretty correct\n",
      "notion of my country and countrymen. alas, a few years ago, i should have said \"my universe\": but now my mind has been\n",
      "opened to higher views of things.\n"
     ]
    }
   ],
   "source": [
    "import string\n",
    "s = \"\"\"Imagine a vast sheet of paper on which straight Lines, Triangles, Squares, Pentagons, Hexagons, and other figures,\n",
    "instead of remaining fixed in their places, move freely about, on or in the surface, but without the power of rising above\n",
    "or sinking below it, very much like shadows - only hard and with luminous edges - and you will then have a pretty correct\n",
    "notion of my country and countrymen. Alas, a few years ago, I should have said \"my universe\": but now my mind has been\n",
    "opened to higher views of things.\"\"\"\n",
    "\n",
    "s_lower = s.lower()\n",
    "print(s_lower)"
   ]
  },
  {
   "cell_type": "code",
   "execution_count": 4,
   "metadata": {},
   "outputs": [
    {
     "name": "stdout",
     "output_type": "stream",
     "text": [
      "['imagine', 'a', 'vast', 'sheet', 'of', 'paper', 'on', 'which', 'straight', 'lines,', 'triangles,', 'squares,', 'pentagons,', 'hexagons,', 'and', 'other', 'figures,', 'instead', 'of', 'remaining', 'fixed', 'in', 'their', 'places,', 'move', 'freely', 'about,', 'on', 'or', 'in', 'the', 'surface,', 'but', 'without', 'the', 'power', 'of', 'rising', 'above', 'or', 'sinking', 'below', 'it,', 'very', 'much', 'like', 'shadows', '-', 'only', 'hard', 'and', 'with', 'luminous', 'edges', '-', 'and', 'you', 'will', 'then', 'have', 'a', 'pretty', 'correct', 'notion', 'of', 'my', 'country', 'and', 'countrymen.', 'alas,', 'a', 'few', 'years', 'ago,', 'i', 'should', 'have', 'said', '\"my', 'universe\":', 'but', 'now', 'my', 'mind', 'has', 'been', 'opened', 'to', 'higher', 'views', 'of', 'things.']\n",
      "92\n"
     ]
    }
   ],
   "source": [
    "words = s_lower.split()\n",
    "print(words)\n",
    "print(len(words))"
   ]
  },
  {
   "cell_type": "code",
   "execution_count": 5,
   "metadata": {},
   "outputs": [
    {
     "name": "stdout",
     "output_type": "stream",
     "text": [
      "75\n"
     ]
    }
   ],
   "source": [
    "words_set = set(words)\n",
    "print(len(words_set))"
   ]
  },
  {
   "cell_type": "code",
   "execution_count": 6,
   "metadata": {},
   "outputs": [
    {
     "name": "stdout",
     "output_type": "stream",
     "text": [
      "{'things.': 0, '-': 0, 'i': 0, 'lines,': 0, 'the': 0, 'fixed': 0, 'move': 0, 'edges': 0, 'or': 0, 'pretty': 0, 'freely': 0, 'have': 0, 'shadows': 0, 'now': 0, 'surface,': 0, 'notion': 0, 'figures,': 0, 'ago,': 0, 'and': 0, '\"my': 0, 'sinking': 0, 'views': 0, 'squares,': 0, 'like': 0, 'alas,': 0, 'said': 0, 'mind': 0, 'correct': 0, 'of': 0, 'you': 0, 'a': 0, 'my': 0, 'triangles,': 0, 'few': 0, 'above': 0, 'paper': 0, 'straight': 0, 'power': 0, 'with': 0, 'imagine': 0, 'luminous': 0, 'vast': 0, 'places,': 0, 'about,': 0, 'which': 0, 'has': 0, 'been': 0, 'without': 0, 'to': 0, 'only': 0, 'years': 0, 'will': 0, 'higher': 0, 'then': 0, 'other': 0, 'remaining': 0, 'opened': 0, 'hard': 0, 'instead': 0, 'hexagons,': 0, 'on': 0, 'their': 0, 'sheet': 0, 'below': 0, 'should': 0, 'very': 0, 'rising': 0, 'much': 0, 'universe\":': 0, 'pentagons,': 0, 'countrymen.': 0, 'but': 0, 'in': 0, 'country': 0, 'it,': 0}\n"
     ]
    }
   ],
   "source": [
    "freq_occurs = {i : 0 for i in words_set}\n",
    "print(freq_occurs)"
   ]
  },
  {
   "cell_type": "code",
   "execution_count": 7,
   "metadata": {},
   "outputs": [],
   "source": [
    "for w in words:\n",
    "    freq_occurs[w] += 1"
   ]
  },
  {
   "cell_type": "code",
   "execution_count": 8,
   "metadata": {},
   "outputs": [
    {
     "name": "stdout",
     "output_type": "stream",
     "text": [
      "{'things.': 1, '-': 2, 'i': 1, 'lines,': 1, 'the': 2, 'fixed': 1, 'move': 1, 'edges': 1, 'or': 2, 'pretty': 1, 'freely': 1, 'have': 2, 'shadows': 1, 'now': 1, 'surface,': 1, 'notion': 1, 'figures,': 1, 'ago,': 1, 'and': 4, '\"my': 1, 'sinking': 1, 'views': 1, 'squares,': 1, 'like': 1, 'alas,': 1, 'said': 1, 'mind': 1, 'correct': 1, 'of': 5, 'you': 1, 'a': 3, 'my': 2, 'triangles,': 1, 'few': 1, 'above': 1, 'paper': 1, 'straight': 1, 'power': 1, 'with': 1, 'imagine': 1, 'luminous': 1, 'vast': 1, 'places,': 1, 'about,': 1, 'which': 1, 'has': 1, 'been': 1, 'without': 1, 'to': 1, 'only': 1, 'years': 1, 'will': 1, 'higher': 1, 'then': 1, 'other': 1, 'remaining': 1, 'opened': 1, 'hard': 1, 'instead': 1, 'hexagons,': 1, 'on': 2, 'their': 1, 'sheet': 1, 'below': 1, 'should': 1, 'very': 1, 'rising': 1, 'much': 1, 'universe\":': 1, 'pentagons,': 1, 'countrymen.': 1, 'but': 2, 'in': 2, 'country': 1, 'it,': 1}\n"
     ]
    }
   ],
   "source": [
    "print(freq_occurs)"
   ]
  },
  {
   "cell_type": "code",
   "execution_count": null,
   "metadata": {},
   "outputs": [],
   "source": []
  }
 ],
 "metadata": {
  "kernelspec": {
   "display_name": "Python 3",
   "language": "python",
   "name": "python3"
  },
  "language_info": {
   "codemirror_mode": {
    "name": "ipython",
    "version": 3
   },
   "file_extension": ".py",
   "mimetype": "text/x-python",
   "name": "python",
   "nbconvert_exporter": "python",
   "pygments_lexer": "ipython3",
   "version": "3.7.3"
  }
 },
 "nbformat": 4,
 "nbformat_minor": 2
}
