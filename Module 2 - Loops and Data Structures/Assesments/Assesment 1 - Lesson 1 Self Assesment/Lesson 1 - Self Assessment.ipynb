{
 "cells": [
  {
   "cell_type": "code",
   "execution_count": 1,
   "metadata": {},
   "outputs": [
    {
     "name": "stdout",
     "output_type": "stream",
     "text": [
      "[5, 2, 5, 3]\n",
      "[12, 8, 7, 3]\n",
      "[6, 66, 3, 64]\n"
     ]
    }
   ],
   "source": [
    "#Sam Bristow\n",
    "#29/10/2020\n",
    "\n",
    "number_tuple = (3,5,2,5,3,7,8,12,64,3,66,6)\n",
    "\n",
    "first_4 = list(number_tuple[:4])\n",
    "middle_4 = list(number_tuple[4:-4])\n",
    "last_4 = list(number_tuple[-4:])\n",
    "\n",
    "first_4.reverse()\n",
    "middle_4.reverse()\n",
    "last_4.reverse()\n",
    "\n",
    "print(first_4)\n",
    "print(middle_4)\n",
    "print(last_4)"
   ]
  },
  {
   "cell_type": "code",
   "execution_count": null,
   "metadata": {},
   "outputs": [],
   "source": []
  }
 ],
 "metadata": {
  "kernelspec": {
   "display_name": "Python 3",
   "language": "python",
   "name": "python3"
  },
  "language_info": {
   "codemirror_mode": {
    "name": "ipython",
    "version": 3
   },
   "file_extension": ".py",
   "mimetype": "text/x-python",
   "name": "python",
   "nbconvert_exporter": "python",
   "pygments_lexer": "ipython3",
   "version": "3.7.3"
  }
 },
 "nbformat": 4,
 "nbformat_minor": 2
}
