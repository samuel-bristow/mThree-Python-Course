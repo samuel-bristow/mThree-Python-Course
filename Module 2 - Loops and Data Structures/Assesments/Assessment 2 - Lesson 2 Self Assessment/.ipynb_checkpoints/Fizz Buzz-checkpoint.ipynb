{
 "cells": [
  {
   "cell_type": "code",
   "execution_count": 4,
   "metadata": {},
   "outputs": [
    {
     "name": "stdout",
     "output_type": "stream",
     "text": [
      "How many fizzing and buzzing units do you need in your life? 7\n",
      "0\n",
      "1\n",
      "2\n",
      "fizz\n",
      "4\n",
      "buzz\n",
      "fizz\n",
      "7\n",
      "8\n",
      "fizz\n",
      "buzz\n",
      "11\n",
      "fizz\n",
      "13\n",
      "14\n",
      "fizz buzz\n",
      "TRADITION\n"
     ]
    }
   ],
   "source": [
    "#06/11/2020\n",
    "#Sam Bristow\n",
    "\n",
    "input_num = int(input(\"How many fizzing and buzzing units do you need in your life? \"))\n",
    "count = 0\n",
    "i = 1\n",
    "print(0)\n",
    "while (count < input_num):\n",
    "    if (i%3 == 0) and (i%5 == 0):\n",
    "        print(\"fizz buzz\")\n",
    "        count = count + 1\n",
    "        i = i + 1\n",
    "    elif i%3 == 0:\n",
    "        print(\"fizz\")\n",
    "        count = count + 1\n",
    "        i = i + 1\n",
    "    elif i%5 == 0:\n",
    "        print(\"buzz\")\n",
    "        count = count + 1\n",
    "        i = i + 1\n",
    "    else:\n",
    "        print(i)\n",
    "        i = i + 1\n",
    "print(\"TRADITION\")"
   ]
  },
  {
   "cell_type": "code",
   "execution_count": null,
   "metadata": {},
   "outputs": [],
   "source": []
  }
 ],
 "metadata": {
  "kernelspec": {
   "display_name": "Python 3",
   "language": "python",
   "name": "python3"
  },
  "language_info": {
   "codemirror_mode": {
    "name": "ipython",
    "version": 3
   },
   "file_extension": ".py",
   "mimetype": "text/x-python",
   "name": "python",
   "nbconvert_exporter": "python",
   "pygments_lexer": "ipython3",
   "version": "3.7.3"
  }
 },
 "nbformat": 4,
 "nbformat_minor": 2
}
