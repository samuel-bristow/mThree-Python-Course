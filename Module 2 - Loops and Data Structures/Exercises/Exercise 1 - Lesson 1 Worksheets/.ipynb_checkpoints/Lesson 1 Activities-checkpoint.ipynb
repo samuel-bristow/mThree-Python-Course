{
 "cells": [
  {
   "cell_type": "markdown",
   "metadata": {},
   "source": [
    "\n",
    "# Lesson 1 Activities\n",
    "\n",
    "The activities in this page are designed to test your ability to meet the objectives for Lesson 1, including:\n",
    "\n",
    "* Use lists to store data collections and retrieve specific values from a collection.\n",
    "* Use tuples to store data collections and retrieve values.\n",
    "\n",
    "Complete each activity as described and run the code to make sure it works as expected before starting the next activity."
   ]
  },
  {
   "cell_type": "markdown",
   "metadata": {},
   "source": [
    "## Activity 1\n",
    "\n",
    "Prompt the user to answer a series of 3-5 questions about themselves (such as their name, their age, their birthdate, or where they live) and save the answers in a list. Display the results to the user.\n",
    "\n",
    "**Tip**: Research the syntax required for a tuple with a single element."
   ]
  },
  {
   "cell_type": "code",
   "execution_count": 1,
   "metadata": {},
   "outputs": [
    {
     "name": "stdout",
     "output_type": "stream",
     "text": [
      "What is your name? Sam\n",
      "How old are you? 22\n",
      "Which city do you live in? finmere\n",
      "['Sam', '22', 'finmere']\n"
     ]
    }
   ],
   "source": [
    "# your code here\n",
    "name = input(\"What is your name? \")\n",
    "age = input(\"How old are you? \")\n",
    "city = input(\"Which city do you live in? \")\n",
    "\n",
    "info = [name, age, city]\n",
    "\n",
    "print(info)"
   ]
  },
  {
   "cell_type": "markdown",
   "metadata": {},
   "source": [
    "## Activity 2\n",
    "\n",
    "Present the user with an existing list of items (such as the list created in the previous activity) and prompt the user for 2-4 more items to add to the list. Update the list with the new items and display the updated list."
   ]
  },
  {
   "cell_type": "code",
   "execution_count": 4,
   "metadata": {},
   "outputs": [
    {
     "name": "stdout",
     "output_type": "stream",
     "text": [
      "What is your name? Sam\n",
      "How old are you? 22\n",
      "Which city do you live in? Finmere\n",
      "What is your job? student\n",
      "What is your hobby? skiing\n",
      "['Sam', '22', 'Finmere', 'student', 'skiing']\n"
     ]
    }
   ],
   "source": [
    "# your code here\n",
    "name = input(\"What is your name? \")\n",
    "age = input(\"How old are you? \")\n",
    "city = input(\"Which city do you live in? \")\n",
    "\n",
    "info = [name, age, city]\n",
    "\n",
    "job = input(\"What is your job? \")\n",
    "hobby = input(\"What is your hobby? \")\n",
    "info.append(job)\n",
    "info.append(hobby)\n",
    "\n",
    "print(info)\n"
   ]
  },
  {
   "cell_type": "markdown",
   "metadata": {},
   "source": [
    "## Activity 3\n",
    "\n",
    "Present the user with a list of 7-9 items (such as the list created in the previous activities) and prompt them to enter one item to delete from the list. Delete the named item from the list and display the updated list."
   ]
  },
  {
   "cell_type": "code",
   "execution_count": 5,
   "metadata": {},
   "outputs": [
    {
     "name": "stdout",
     "output_type": "stream",
     "text": [
      "Please select an item to delete Sam\n",
      "['22', 'Finmere', 'student', 'skiing']\n"
     ]
    }
   ],
   "source": [
    "# your code here\n",
    "info = ['Sam', '22', 'Finmere', 'student', 'skiing']\n",
    "delete_item = input(\"Please select an item to delete \")\n",
    "info.remove(delete_item)\n",
    "print(info)"
   ]
  },
  {
   "cell_type": "markdown",
   "metadata": {},
   "source": [
    "## Activity 4\n",
    "\n",
    "Present the user with a list of 7-9 items (such as the list created in the previous activities) and prompt them to select one item from the list to update, along with the new value for that item. Change the item's value and display the new list to the user.\n",
    "\n",
    "**Tip**: You will need to know how to find the index value for a specific value to complete this activity."
   ]
  },
  {
   "cell_type": "code",
   "execution_count": 7,
   "metadata": {},
   "outputs": [
    {
     "name": "stdout",
     "output_type": "stream",
     "text": [
      "Which item would you like to update? Sam\n",
      "What would you like to change it too? George\n",
      "['George', '22', 'Finmere', 'student', 'skiing']\n"
     ]
    }
   ],
   "source": [
    "# your code here\n",
    "info = ['Sam', '22', 'Finmere', 'student', 'skiing']\n",
    "update_item = input(\"Which item would you like to update? \")\n",
    "new_item = input(\"What would you like to change it too? \")\n",
    "\n",
    "index = info.index(update_item)\n",
    "info[index] =  new_item\n",
    "print(info)"
   ]
  },
  {
   "cell_type": "markdown",
   "metadata": {},
   "source": [
    "## Activity 5\n",
    "\n",
    "Create four tuples:\n",
    "\n",
    "* One tuple with a person's first name and last name\n",
    "* A second tuple with the person's current profession\n",
    "* A third tuple with the person's current address\n",
    "* A fourth tuple with the person's previous address\n",
    "\n",
    "Combine all tuples into a new, single tuple that contains all items from the original tuples."
   ]
  },
  {
   "cell_type": "code",
   "execution_count": 9,
   "metadata": {},
   "outputs": [
    {
     "name": "stdout",
     "output_type": "stream",
     "text": [
      "('Sam', 'Bristow', 'Student', 1, 'Main Street', 2, 'Main Street')\n"
     ]
    }
   ],
   "source": [
    "# your code here\n",
    "name = (\"Sam\", \"Bristow\")\n",
    "job = (\"Student\",)\n",
    "current_address = (1, \"Main Street\")\n",
    "previous_address = (2, \"Main Street\")\n",
    "\n",
    "info = name + job + current_address + previous_address\n",
    "print(info)"
   ]
  },
  {
   "cell_type": "markdown",
   "metadata": {},
   "source": [
    "## Activity 6\n",
    "\n",
    "Using the final tuple from the previous activity, write a program that performs the following steps:\n",
    "\n",
    "* Display the tuple to the user.\n",
    "* Prompt the user to enter a value that should be changed.\n",
    "* Prompt the user to enter the updated value for that item.\n",
    "* Update the value and display the updated tuple to the user.\n",
    "\n",
    "**Tip**: You cannot update the contents of a tuple, but you can update the contents of a list."
   ]
  },
  {
   "cell_type": "code",
   "execution_count": 12,
   "metadata": {},
   "outputs": [
    {
     "name": "stdout",
     "output_type": "stream",
     "text": [
      "('Sam', 'Bristow', 'Student', 1, 'Main Street', 2, 'Main Street')\n",
      "Which item would you like to update? Sam\n",
      "What would you like to change it too? George\n",
      "('George', 'Bristow', 'Student', 1, 'Main Street', 2, 'Main Street')\n"
     ]
    }
   ],
   "source": [
    "# your code here\n",
    "name = (\"Sam\", \"Bristow\")\n",
    "job = (\"Student\",)\n",
    "current_address = (1, \"Main Street\")\n",
    "previous_address = (2, \"Main Street\")\n",
    "\n",
    "info = name + job + current_address + previous_address\n",
    "print(info)\n",
    "\n",
    "info_list = list(info)\n",
    "\n",
    "update_item = input(\"Which item would you like to update? \")\n",
    "new_item = input(\"What would you like to change it too? \")\n",
    "\n",
    "index = info_list.index(update_item)\n",
    "info_list[index] =  new_item\n",
    "\n",
    "info_tuple = tuple(info_list)\n",
    "print(info_tuple)"
   ]
  },
  {
   "cell_type": "code",
   "execution_count": null,
   "metadata": {},
   "outputs": [],
   "source": []
  }
 ],
 "metadata": {
  "kernelspec": {
   "display_name": "Python 3",
   "language": "python",
   "name": "python3"
  },
  "language_info": {
   "codemirror_mode": {
    "name": "ipython",
    "version": 3
   },
   "file_extension": ".py",
   "mimetype": "text/x-python",
   "name": "python",
   "nbconvert_exporter": "python",
   "pygments_lexer": "ipython3",
   "version": "3.7.3"
  }
 },
 "nbformat": 4,
 "nbformat_minor": 2
}
