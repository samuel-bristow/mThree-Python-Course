{
 "cells": [
  {
   "cell_type": "markdown",
   "metadata": {},
   "source": [
    "# Worksheet 1B: Tuples\n",
    "This worksheet corresponds to *Lesson 1B: Tuples and Tuple Operations* in the online course. Refer to that lesson as necessary to complete the practice activities here."
   ]
  },
  {
   "cell_type": "markdown",
   "metadata": {},
   "source": [
    "## Practice 1\n",
    "Create a tuple that contains the following information:  \n",
    "* Your first name \n",
    "* Your last name\n",
    "* Your age\n",
    "* The average number of miles you travel to work every day (round trip)"
   ]
  },
  {
   "cell_type": "code",
   "execution_count": 1,
   "metadata": {},
   "outputs": [
    {
     "name": "stdout",
     "output_type": "stream",
     "text": [
      "('Sam', 'Bristow', 22, 0)\n"
     ]
    }
   ],
   "source": [
    "# your code here \n",
    "info = (\"Sam\", \"Bristow\", 22, 0)\n",
    "print(info)"
   ]
  },
  {
   "cell_type": "markdown",
   "metadata": {},
   "source": [
    "## Practice 2\n",
    "Create a tuple that contains a series of items and then calculate the length of the tuple.\n",
    "\n",
    "You may use the code from Practice 1 above as a starting point if you wish."
   ]
  },
  {
   "cell_type": "code",
   "execution_count": 2,
   "metadata": {},
   "outputs": [
    {
     "name": "stdout",
     "output_type": "stream",
     "text": [
      "5\n"
     ]
    }
   ],
   "source": [
    "# your code here\n",
    "list_of_strings = (\"Kate\", \"Jennifer\", \"Mike\",\"Sam\", \"Tash\")\n",
    "print(len(list_of_strings))"
   ]
  },
  {
   "cell_type": "markdown",
   "metadata": {},
   "source": [
    "## Practice 3\n",
    "Fix the following code so all the information is displayed correctly. "
   ]
  },
  {
   "cell_type": "code",
   "execution_count": 3,
   "metadata": {},
   "outputs": [
    {
     "name": "stdout",
     "output_type": "stream",
     "text": [
      "('Jonathan', 'Vance', '679 Birchpond Street', 'Merrillville', 'IN', '46410', '219-555-4876')\n",
      "Last name: Vance\n",
      "First name: Jonathan\n",
      "Phone number: 219-555-4876\n",
      "Street: 679 Birchpond Street\n",
      "City: Merrillville\n",
      "State: IN\n",
      "Zip code: 46410\n"
     ]
    }
   ],
   "source": [
    "# do not change the first line of code\n",
    "info = (\"Jonathan\", \"Vance\", \"679 Birchpond Street\", \"Merrillville\", \"IN\", \"46410\", \"219-555-4876\") \n",
    "print(info)\n",
    "\n",
    "# change the index values to produce the correct outputs\n",
    "print(\"Last name: \"+info[1])\n",
    "print(\"First name: \"+info[0])\n",
    "print(\"Phone number: \"+info[-1])\n",
    "print(\"Street: \"+info[2])\n",
    "print(\"City: \"+info[3])\n",
    "print(\"State: \"+info[-3])\n",
    "print(\"Zip code: \"+info[-2])"
   ]
  },
  {
   "cell_type": "markdown",
   "metadata": {},
   "source": [
    "## Practice 4\n",
    "Use negative indexing to display all the items in the tuple below in alphabetical order."
   ]
  },
  {
   "cell_type": "code",
   "execution_count": 4,
   "metadata": {},
   "outputs": [
    {
     "name": "stdout",
     "output_type": "stream",
     "text": [
      "Adams\n",
      "Adams\n",
      "Jackson\n",
      "Jefferson\n",
      "Madison\n",
      "Monroe\n",
      "Van Buren\n",
      "Washington\n"
     ]
    }
   ],
   "source": [
    "info = (\"Washington\", \"Adams\", \"Jefferson\", \"Madison\", \"Monroe\", \"Adams\", \"Jackson\", \"Van Buren\")\n",
    "\n",
    "# your code here\n",
    "print(info[-3])\n",
    "print(info[-7])\n",
    "print(info[-2])\n",
    "print(info[-6])\n",
    "print(info[-5])\n",
    "print(info[-4])\n",
    "print(info[-1])\n",
    "print(info[-8])"
   ]
  },
  {
   "cell_type": "markdown",
   "metadata": {},
   "source": [
    "## Practice 5a\n",
    "Update the code below so that each range references only one index value.\n",
    "\n",
    "The output should not change."
   ]
  },
  {
   "cell_type": "code",
   "execution_count": 5,
   "metadata": {},
   "outputs": [
    {
     "name": "stdout",
     "output_type": "stream",
     "text": [
      "The name is:\n",
      "('Jonathan', 'Vance')\n",
      "The address is:\n",
      "('679 Birchpond Street', 'Merrillville', 'IN', '46410')\n"
     ]
    }
   ],
   "source": [
    "info = (\"Jonathan\", \"Vance\", \"679 Birchpond Street\", \"Merrillville\", \"IN\", \"46410\") \n",
    "\n",
    "# we extract only the first two elements from the tuple and store them in a new tuple\n",
    "name = info[:2]  \n",
    "print(\"The name is:\")\n",
    "print(name)\n",
    "\n",
    "# we extract only the last four elements from the tuple and store them in a new tuple\n",
    "address = info[2:] \n",
    "print(\"The address is:\")\n",
    "print(address)"
   ]
  },
  {
   "cell_type": "markdown",
   "metadata": {},
   "source": [
    "## Practice 5b\n",
    "The tuple below contains the abbreviation of all the states in the USA. \n",
    "\n",
    "Use slicing to create three new tuples: \n",
    "* One tuple that contains all states that start with N\n",
    "* One tuple that contains all states that start with O\n",
    "* One tuple that contains all states that start with A"
   ]
  },
  {
   "cell_type": "code",
   "execution_count": 7,
   "metadata": {},
   "outputs": [
    {
     "name": "stdout",
     "output_type": "stream",
     "text": [
      "('AL', 'AK', 'AZ', 'AR')\n",
      "('NE', 'NV', 'NH', 'NJ', 'NM', 'NY', 'NC', 'ND')\n",
      "('OH', 'OK', 'OR')\n"
     ]
    }
   ],
   "source": [
    "states = (\"AL\", \"AK\", \"AZ\", \"AR\", \"CA\", \"CO\", \"CT\", \"DE\", \"FL\", \"GA\", \n",
    "          \"HI\", \"ID\", \"IL\", \"IN\", \"IA\", \"KS\", \"KY\", \"LA\", \"ME\", \"MD\", \n",
    "          \"MA\", \"MI\", \"MN\", \"MS\", \"MO\", \"MT\", \"NE\", \"NV\", \"NH\", \"NJ\", \n",
    "          \"NM\", \"NY\", \"NC\", \"ND\", \"OH\", \"OK\", \"OR\", \"PA\", \"RI\", \"SC\", \n",
    "          \"SD\", \"TN\", \"TX\", \"UT\", \"VT\", \"VA\", \"WA\", \"WV\", \"WI\", \"WY\")\n",
    "\n",
    "# your code here \n",
    "n_tuple = states[26:34]\n",
    "o_tuple = states[34:37]\n",
    "a_tuple = states[:4]\n",
    "\n",
    "print(a_tuple)\n",
    "print(n_tuple)\n",
    "print(o_tuple)"
   ]
  },
  {
   "cell_type": "markdown",
   "metadata": {},
   "source": [
    "## Practice 6\n",
    "Attempt each of the following tasks on the tuple defined below:\n",
    "* Add an integer representing Jonathan's age as the last item in the tuple.\n",
    "* Add the Zip code \"46410\" between the state and phone number.\n",
    "* Remove the phone number from the tuple.\n",
    "Attempt each of the tasks individually, run the code to see what happens, and then attempt the next task in the list.\n",
    "\n",
    "**Challenge**: Change the code so that the data is stored as a list rather than as a tuple and attempt each of the tasks again."
   ]
  },
  {
   "cell_type": "code",
   "execution_count": 9,
   "metadata": {},
   "outputs": [
    {
     "name": "stdout",
     "output_type": "stream",
     "text": [
      "['Jonathan', 'Vance', '679 Birchpond Street', 'Merrillville', 'IN', '219-555-4876']\n",
      "['Jonathan', 'Vance', '679 Birchpond Street', 'Merrillville', 'IN', 46410, 25]\n"
     ]
    }
   ],
   "source": [
    "info = [\"Jonathan\", \"Vance\", \"679 Birchpond Street\", \"Merrillville\", \"IN\", \"219-555-4876\"] \n",
    "print(info)\n",
    "\n",
    "info.append(25)\n",
    "info.insert(5,46410)\n",
    "info.remove(\"219-555-4876\")\n",
    "\n",
    "print(info)"
   ]
  },
  {
   "cell_type": "markdown",
   "metadata": {},
   "source": [
    "## Practice 7\n",
    "Create three tuples: \n",
    "* One tuple with a person's first name and last name\n",
    "* A second tuple with the person's complete address\n",
    "* A third tuple with contact information, such as a phone number and an email address\n",
    "\n",
    "Combine all tuples into a new, single tuple that contains all of the items from the original tuples."
   ]
  },
  {
   "cell_type": "code",
   "execution_count": 10,
   "metadata": {},
   "outputs": [
    {
     "name": "stdout",
     "output_type": "stream",
     "text": [
      "('Sam', 'Bristow', '1 Main Street', 'London', '0123456789', 'Sam@Bristow.com')\n"
     ]
    }
   ],
   "source": [
    "# your code here\n",
    "name = (\"Sam\", \"Bristow\")\n",
    "address = (\"1 Main Street\",\"London\")\n",
    "contact_info = (\"0123456789\", \"Sam@Bristow.com\")\n",
    "\n",
    "full_details = name + address + contact_info\n",
    "print(full_details)"
   ]
  },
  {
   "cell_type": "code",
   "execution_count": null,
   "metadata": {},
   "outputs": [],
   "source": []
  }
 ],
 "metadata": {
  "kernelspec": {
   "display_name": "Python 3",
   "language": "python",
   "name": "python3"
  },
  "language_info": {
   "codemirror_mode": {
    "name": "ipython",
    "version": 3
   },
   "file_extension": ".py",
   "mimetype": "text/x-python",
   "name": "python",
   "nbconvert_exporter": "python",
   "pygments_lexer": "ipython3",
   "version": "3.7.3"
  }
 },
 "nbformat": 4,
 "nbformat_minor": 2
}
