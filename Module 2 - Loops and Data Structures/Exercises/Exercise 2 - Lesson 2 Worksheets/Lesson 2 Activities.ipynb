{
 "cells": [
  {
   "cell_type": "markdown",
   "metadata": {},
   "source": [
    "# Lesson 2 Activities\n",
    "The activities in this page will allow you to demonstrate your ability to:\n",
    "\n",
    "* Create a Python script that uses a `for` loop to repeat an activity until a specific criterion is met.\n",
    "* Create a Python script that uses a `while` loop to repeat an activity as long as a specific criterion holds true."
   ]
  },
  {
   "cell_type": "markdown",
   "metadata": {},
   "source": [
    "## Activity 1\n",
    "Given the list `fruit_list`, write a script that iterates through the list and prints each item on a separate line."
   ]
  },
  {
   "cell_type": "code",
   "execution_count": 1,
   "metadata": {},
   "outputs": [
    {
     "name": "stdout",
     "output_type": "stream",
     "text": [
      "apple\n",
      "banana\n",
      "cherry\n",
      "gooseberry\n",
      "kumquat\n",
      "orange\n",
      "pineapple\n"
     ]
    }
   ],
   "source": [
    "fruit_list = [\"apple\", \"banana\", \"cherry\", \"gooseberry\", \"kumquat\", \"orange\", \"pineapple\"]\n",
    "\n",
    "# your code here\n",
    "for i in fruit_list:\n",
    "    print(i)"
   ]
  },
  {
   "cell_type": "markdown",
   "metadata": {},
   "source": [
    "## Activity 2\n",
    "Write a script that asks the user for a string and displays the characters of the string to the user, with each character on a new line.\n",
    "\n",
    "For example, if the input is `Hello`, the output should be:\n",
    "\n",
    "    H\n",
    "    e\n",
    "    l\n",
    "    l\n",
    "    o"
   ]
  },
  {
   "cell_type": "code",
   "execution_count": 3,
   "metadata": {},
   "outputs": [
    {
     "name": "stdout",
     "output_type": "stream",
     "text": [
      "Please enter a word: Sam\n",
      "S\n",
      "a\n",
      "m\n"
     ]
    }
   ],
   "source": [
    "# your code here\n",
    "input_value = input(\"Please enter a word: \")\n",
    "\n",
    "for i in input_value:\n",
    "    print(i)"
   ]
  },
  {
   "cell_type": "markdown",
   "metadata": {},
   "source": [
    "## Activity 3\n",
    "Write a script that computes the length of a string without using the `len()` function."
   ]
  },
  {
   "cell_type": "code",
   "execution_count": 5,
   "metadata": {},
   "outputs": [
    {
     "name": "stdout",
     "output_type": "stream",
     "text": [
      "Please enter a word: Hellow \n",
      "7\n"
     ]
    }
   ],
   "source": [
    "# your code here\n",
    "input_value = input(\"Please enter a word: \")\n",
    "count = 0\n",
    "\n",
    "for i in input_value:\n",
    "    count = count + 1\n",
    "\n",
    "print(count)"
   ]
  },
  {
   "cell_type": "markdown",
   "metadata": {},
   "source": [
    "## Activity 4\n",
    "Create a program that starts with a list of strings, identifies all the strings with more than two characters, stores the results in another list, and displays the new list.\n",
    "\n",
    "For example:\n",
    "\n",
    "    a = [\"a\", \"bc\", \"rye\", \"hello\", \"c\", \"\"]\n",
    "\n",
    "Output:\n",
    "\n",
    "    [\"rye\", \"hello\"]"
   ]
  },
  {
   "cell_type": "code",
   "execution_count": 6,
   "metadata": {},
   "outputs": [
    {
     "name": "stdout",
     "output_type": "stream",
     "text": [
      "['rye', 'hello']\n"
     ]
    }
   ],
   "source": [
    "# your code here\n",
    "a = [\"a\", \"bc\", \"rye\", \"hello\", \"c\", \"\"]\n",
    "b = []\n",
    "\n",
    "for i in a:\n",
    "    if len(i) > 2:\n",
    "        b.append(i)\n",
    "\n",
    "print(b)"
   ]
  },
  {
   "cell_type": "markdown",
   "metadata": {},
   "source": [
    "## Activity 5\n",
    "Write two scripts, each of which displays all numbers divisible by 50 between 100 and 1000 (inclusive).\n",
    "* Use the `range` function with `for` in one script.\n",
    "* Use `while` without `range` in the other script.\n",
    "\n",
    "Both scripts should have identical outputs."
   ]
  },
  {
   "cell_type": "code",
   "execution_count": 8,
   "metadata": {},
   "outputs": [
    {
     "name": "stdout",
     "output_type": "stream",
     "text": [
      "100\n",
      "150\n",
      "200\n",
      "250\n",
      "300\n",
      "350\n",
      "400\n",
      "450\n",
      "500\n",
      "550\n",
      "600\n",
      "650\n",
      "700\n",
      "750\n",
      "800\n",
      "850\n",
      "900\n",
      "950\n",
      "1000\n"
     ]
    }
   ],
   "source": [
    "# script 1: range\n",
    "# your code here\n",
    "\n",
    "for i in range(100, 1001):\n",
    "    if i % 50 == 0:\n",
    "        print(i)"
   ]
  },
  {
   "cell_type": "code",
   "execution_count": 1,
   "metadata": {},
   "outputs": [
    {
     "name": "stdout",
     "output_type": "stream",
     "text": [
      "100\n",
      "150\n",
      "200\n",
      "250\n",
      "300\n",
      "350\n",
      "400\n",
      "450\n",
      "500\n",
      "550\n",
      "600\n",
      "650\n",
      "700\n",
      "750\n",
      "800\n",
      "850\n",
      "900\n",
      "950\n",
      "1000\n"
     ]
    }
   ],
   "source": [
    "# script 2: while\n",
    "# your code here\n",
    "i = 100\n",
    "\n",
    "while (i <= 1000):\n",
    "    if i % 50 == 0:\n",
    "        print(i)\n",
    "    i = i+1\n",
    "       "
   ]
  },
  {
   "cell_type": "markdown",
   "metadata": {},
   "source": [
    "## Activity 6\n",
    "Create a script that computes the sum of all numbers between 0 and 100."
   ]
  },
  {
   "cell_type": "code",
   "execution_count": 2,
   "metadata": {},
   "outputs": [
    {
     "name": "stdout",
     "output_type": "stream",
     "text": [
      "5050\n"
     ]
    }
   ],
   "source": [
    "# your code here\n",
    "total = 0\n",
    "\n",
    "for i in range(101):\n",
    "    total = total + i\n",
    "print(total)"
   ]
  },
  {
   "cell_type": "markdown",
   "metadata": {},
   "source": [
    "## Activity 7\n",
    "Create a script that computes the factorial of any given number."
   ]
  },
  {
   "cell_type": "code",
   "execution_count": 6,
   "metadata": {},
   "outputs": [
    {
     "name": "stdout",
     "output_type": "stream",
     "text": [
      "Please enter an integer: 5\n",
      "120\n"
     ]
    }
   ],
   "source": [
    "# your code here\n",
    "x = int(input(\"Please enter an integer: \"))\n",
    "factorial = x\n",
    "\n",
    "while (x > 1):\n",
    "    factorial = factorial * (x -1)\n",
    "    x = x - 1\n",
    "print(factorial)"
   ]
  },
  {
   "cell_type": "markdown",
   "metadata": {},
   "source": [
    "##  Activity 8\n",
    "Starting with the defined `fruit_list` in the code block below, update the script to perform the following tasks.\n",
    "\n",
    "1. Prompt the user to enter the name of a fruit.\n",
    "1. If the fruit is in `fruit_list`, display an appropriate message to the user and tell the user its index value in the list.\n",
    "1. If the fruit is not in `fruit_list`, display an appropriate message to the user and prompt them to try again.\n",
    "1. The script should repeat itself until the user enters a stop word at the prompt.\n",
    "\n",
    "**Tip:** It's always a good idea to tell the user how to end a loop!"
   ]
  },
  {
   "cell_type": "code",
   "execution_count": 8,
   "metadata": {},
   "outputs": [
    {
     "name": "stdout",
     "output_type": "stream",
     "text": [
      "Please enter a fruit (or enter 'stop' to stop): asfsd\n",
      "That fruit does not exist\n",
      "Please enter a fruit (or enter 'stop' to stop): orange\n",
      "That fruit exists at index:  5\n",
      "Please enter a fruit (or enter 'stop' to stop): stop\n",
      "The program will now end\n"
     ]
    }
   ],
   "source": [
    "fruit_list = [\"apple\", \"banana\", \"cherry\", \"gooseberry\", \"kumquat\", \"orange\", \"pineapple\"]\n",
    "\n",
    "# your code here\n",
    "user_input = \"\"\n",
    "\n",
    "while (user_input != \"stop\"):\n",
    "    user_input = input(\"Please enter a fruit (or enter 'stop' to stop): \")\n",
    "    if user_input == \"stop\":\n",
    "        print(\"The program will now end\")\n",
    "    elif user_input in fruit_list:\n",
    "        print(\"That fruit exists at index: \", fruit_list.index(user_input))\n",
    "    else:\n",
    "        print(\"That fruit does not exist\")"
   ]
  },
  {
   "cell_type": "markdown",
   "metadata": {},
   "source": [
    "## Activity 9\n",
    "Create a script that asks the user for a variable number of values and displays the sum of those values to the user. \n",
    "\t\n",
    "The program should prompt the user for values until the user enters the word \"quit\" (uppercase or lowercase), display the values used in the calculation, and then display the total of those values."
   ]
  },
  {
   "cell_type": "code",
   "execution_count": 11,
   "metadata": {},
   "outputs": [
    {
     "name": "stdout",
     "output_type": "stream",
     "text": [
      "Please enter a number or 'quit' to finish3\n",
      "Please enter a number or 'quit' to finish4\n",
      "Please enter a number or 'quit' to finish5\n",
      "Please enter a number or 'quit' to finishQuit\n",
      "Summing total...\n",
      "[3, 4, 5]\n",
      "Total:  12\n"
     ]
    }
   ],
   "source": [
    "# your code here\n",
    "\n",
    "user_input = \"\"\n",
    "numbers = []\n",
    "while (user_input.lower() != \"quit\"):\n",
    "    user_input = input(\"Please enter a number or 'quit' to finish\")\n",
    "    if user_input.lower() == \"quit\":\n",
    "        print(\"Summing total...\")\n",
    "    else:\n",
    "        numbers.append(int(user_input))\n",
    "\n",
    "total = 0 \n",
    "\n",
    "for i in numbers:\n",
    "    total = total + i\n",
    "\n",
    "print(numbers)\n",
    "print(\"Total: \", total)"
   ]
  },
  {
   "cell_type": "markdown",
   "metadata": {},
   "source": [
    "## Activity 10\n",
    "Write a script that asks the user for an integer value and then displays the multiplication table of that input number from 1 through the integer squared."
   ]
  },
  {
   "cell_type": "code",
   "execution_count": 12,
   "metadata": {},
   "outputs": [
    {
     "name": "stdout",
     "output_type": "stream",
     "text": [
      "Please enter a number: 5\n",
      "5\n",
      "10\n",
      "15\n",
      "20\n",
      "25\n"
     ]
    }
   ],
   "source": [
    "# your code here\n",
    "value = int(input(\"Please enter a number: \"))\n",
    "\n",
    "i = 1\n",
    "\n",
    "while(i <= value):\n",
    "    print(i * value)\n",
    "    i = i+1"
   ]
  },
  {
   "cell_type": "markdown",
   "metadata": {},
   "source": [
    "## Activity 11\n",
    "Create a script that identifies all prime numbers between 0 and 100. "
   ]
  },
  {
   "cell_type": "code",
   "execution_count": 16,
   "metadata": {},
   "outputs": [
    {
     "name": "stdout",
     "output_type": "stream",
     "text": [
      "0\n",
      "1\n",
      "2\n",
      "3\n",
      "5\n",
      "7\n",
      "11\n",
      "13\n",
      "17\n",
      "19\n",
      "23\n",
      "29\n",
      "31\n",
      "37\n",
      "41\n",
      "43\n",
      "47\n",
      "53\n",
      "59\n",
      "61\n",
      "67\n",
      "71\n",
      "73\n",
      "79\n",
      "83\n",
      "89\n",
      "97\n"
     ]
    }
   ],
   "source": [
    "# your code here\n",
    "\n",
    "for i in range(101):\n",
    "    for j in range (2,i):\n",
    "        if i%j == 0:\n",
    "            break\n",
    "    else:\n",
    "        print(i)\n",
    "    \n",
    "        "
   ]
  },
  {
   "cell_type": "markdown",
   "metadata": {},
   "source": [
    "## Activity 12\n",
    "Write a script that calculates the greatest common denominator between two numbers.\n",
    "\n",
    "For example, given the numbers 18 and 27, the greatest common denominator is 9."
   ]
  },
  {
   "cell_type": "code",
   "execution_count": null,
   "metadata": {},
   "outputs": [],
   "source": [
    "# your code here\n"
   ]
  },
  {
   "cell_type": "markdown",
   "metadata": {},
   "source": [
    "## Activity 13\n",
    "Write a script that computes the frequency of each digit in a given integer.\n",
    "\n",
    "For example, if the input number is 334, the output should be:\n",
    "\n",
    "    3 occurs 2 times \n",
    "    4 occurs 1 time"
   ]
  },
  {
   "cell_type": "code",
   "execution_count": null,
   "metadata": {},
   "outputs": [],
   "source": [
    "# your code here"
   ]
  },
  {
   "cell_type": "markdown",
   "metadata": {},
   "source": [
    "## Activity 14\n",
    "\n",
    "Write a script that calculates the lowest common multiple of two given integers.\n",
    "\n",
    "For example, given the values 4 and 6, the lowest common multiple is 12."
   ]
  },
  {
   "cell_type": "code",
   "execution_count": 1,
   "metadata": {},
   "outputs": [],
   "source": [
    "# your code here"
   ]
  },
  {
   "cell_type": "markdown",
   "metadata": {},
   "source": [
    "## Activity 15\n",
    "Write a script that determines if an input number can be expressed as the sum of two prime numbers. \n",
    "\n",
    "For example, the number `10` can be expressed as the sum of two prime numbers:\n",
    "* 10 = 3 + 7 : both prime numbers \n",
    "* 10 = 5 + 5 : both prime numbers \n",
    "\n",
    "However, the number `11` cannot be:\n",
    "* 11 = 1 + 10 : neither 1 nor 10 are prime numbers\n",
    "* 11 = 2 + 9 : 9 is not a prime number\n",
    "* 11 = 3 + 8 : 8 is not a prime number\n",
    "* 11 = 4 + 7 : 4 is not a prime number\n",
    "* 11 = 5 + 6 : 6 is not a prime number"
   ]
  },
  {
   "cell_type": "code",
   "execution_count": null,
   "metadata": {},
   "outputs": [],
   "source": [
    "# your code here"
   ]
  }
 ],
 "metadata": {
  "kernelspec": {
   "display_name": "Python 3",
   "language": "python",
   "name": "python3"
  },
  "language_info": {
   "codemirror_mode": {
    "name": "ipython",
    "version": 3
   },
   "file_extension": ".py",
   "mimetype": "text/x-python",
   "name": "python",
   "nbconvert_exporter": "python",
   "pygments_lexer": "ipython3",
   "version": "3.7.3"
  }
 },
 "nbformat": 4,
 "nbformat_minor": 2
}
