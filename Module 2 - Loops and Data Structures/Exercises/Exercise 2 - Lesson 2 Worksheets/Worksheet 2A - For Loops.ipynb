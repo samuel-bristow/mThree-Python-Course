{
 "cells": [
  {
   "cell_type": "markdown",
   "metadata": {},
   "source": [
    "# Worksheet 2A - For Loops\n",
    "This worksheet corresponds to *Lesson 2A: For Loops* in the online course. Refer to that lesson as necessary to complete the practice activities here."
   ]
  },
  {
   "cell_type": "markdown",
   "metadata": {},
   "source": [
    "## Practice 1 \n",
    "Fix the following code to display the list items one at a time."
   ]
  },
  {
   "cell_type": "code",
   "execution_count": 1,
   "metadata": {},
   "outputs": [
    {
     "name": "stdout",
     "output_type": "stream",
     "text": [
      "John\n",
      "Smith\n",
      "123 East Main Street\n",
      "Boston\n",
      "Junior Software Developer\n"
     ]
    }
   ],
   "source": [
    "info = [\"John\",\"Smith\",\"123 East Main Street\",\"Boston\",\"Junior Software Developer\"]\n",
    "for i in info:\n",
    "    print(i)"
   ]
  },
  {
   "cell_type": "markdown",
   "metadata": {},
   "source": [
    "## Practice 2 \n",
    "Fix the following code to display the tuple items one at a time."
   ]
  },
  {
   "cell_type": "code",
   "execution_count": 2,
   "metadata": {},
   "outputs": [
    {
     "name": "stdout",
     "output_type": "stream",
     "text": [
      "John\n",
      "Smith\n",
      "123 East Main Street\n",
      "Boston\n",
      "Junior Software Developer\n"
     ]
    }
   ],
   "source": [
    "info = (\"John\",\"Smith\",\"123 East Main Street\",\"Boston\",\"Junior Software Developer\")\n",
    "for i in info:\n",
    "    print(i)"
   ]
  },
  {
   "cell_type": "markdown",
   "metadata": {},
   "source": [
    "## Practice 3\n",
    "Complete the following script so that it iterates through the characters in the variable `name` and displays each character in upper case."
   ]
  },
  {
   "cell_type": "code",
   "execution_count": 4,
   "metadata": {},
   "outputs": [
    {
     "name": "stdout",
     "output_type": "stream",
     "text": [
      "P\n",
      "a\n",
      "t\n",
      "r\n",
      "i\n",
      "c\n",
      "k\n"
     ]
    }
   ],
   "source": [
    "name = \"Patrick\"\n",
    "\n",
    "# add code here\n",
    "for letter in name:\n",
    "    print(letter)"
   ]
  },
  {
   "cell_type": "code",
   "execution_count": null,
   "metadata": {},
   "outputs": [],
   "source": []
  }
 ],
 "metadata": {
  "kernelspec": {
   "display_name": "Python 3",
   "language": "python",
   "name": "python3"
  },
  "language_info": {
   "codemirror_mode": {
    "name": "ipython",
    "version": 3
   },
   "file_extension": ".py",
   "mimetype": "text/x-python",
   "name": "python",
   "nbconvert_exporter": "python",
   "pygments_lexer": "ipython3",
   "version": "3.7.3"
  }
 },
 "nbformat": 4,
 "nbformat_minor": 2
}
