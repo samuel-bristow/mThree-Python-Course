{
 "cells": [
  {
   "cell_type": "markdown",
   "metadata": {},
   "source": [
    "# Worksheet 3A: Dictionaries\n",
    "This worksheet corresponds to *Lesson 3A: Dictionaries* in the online course. Refer to that lesson as necessary to complete these practice exercises."
   ]
  },
  {
   "cell_type": "markdown",
   "metadata": {},
   "source": [
    "## Practice 1a\n",
    "Starting with the dictionary below, add another record with the same key as an existing record, such as \"X10001\": \"Mary\". Before running the updated code, predict what you think will happen, keeping in mind that a dictionary cannot include the same key in more than one record.\n",
    "\n",
    "Was your prediction correct?"
   ]
  },
  {
   "cell_type": "code",
   "execution_count": 1,
   "metadata": {},
   "outputs": [
    {
     "name": "stdout",
     "output_type": "stream",
     "text": [
      "{'X10000': 'Michael', 'X10002': 'Neil', 'X10001': 'Sam'}\n"
     ]
    }
   ],
   "source": [
    "students_dict = dict()\n",
    "students_dict['X10000'] = 'Michael' #Assign the key X10000,the value Michael\n",
    "students_dict['X10002'] = 'Neil' #Assign the key X10002,the value Neil\n",
    "students_dict['X10001'] = 'Karen' #Assign the key X10001,the value Karen\n",
    "students_dict['X10001'] = 'Sam'\n",
    "\n",
    "print(students_dict)"
   ]
  },
  {
   "cell_type": "markdown",
   "metadata": {},
   "source": [
    "## Practice 1b\n",
    "Create a dictionary that contains key-value pairs of your choice. The dictionary should have at least four key-value pairs. Make sure to use meaningful keys and values, so you would eventually be able to look up a value using its key.\n",
    "\n",
    "Suggestions include:\n",
    "* Names and phone numbers\n",
    "* Menu prices\n",
    "* RPG players and roles\n",
    "* Text acronyms and their meanings\n",
    "\n",
    "Remember that each key must be unique in the dictionary. However, key-value pairs can be added in any order."
   ]
  },
  {
   "cell_type": "code",
   "execution_count": 2,
   "metadata": {},
   "outputs": [
    {
     "name": "stdout",
     "output_type": "stream",
     "text": [
      "{'lol': 'Laugh out loud', 'brb': 'be right back', 'wbu': 'what about you?'}\n"
     ]
    }
   ],
   "source": [
    "# your code here\n",
    "acronyms = dict()\n",
    "acronyms['lol'] = 'Laugh out loud'\n",
    "acronyms['brb'] = 'be right back'\n",
    "acronyms['wbu'] = 'what about you?'\n",
    "print(acronyms)"
   ]
  },
  {
   "cell_type": "markdown",
   "metadata": {},
   "source": [
    "## Practice 2\n",
    "Use the two lists below to create a dictionary where the state abbreviations are used as keys and the values are the respective populations. \n",
    "\n",
    "The state and population lists are in the same order, e.g.,  CA has a population of 39557045.\n",
    "\n",
    "After creating the dictionary, retrieve the population of each state individually."
   ]
  },
  {
   "cell_type": "code",
   "execution_count": 4,
   "metadata": {},
   "outputs": [
    {
     "name": "stdout",
     "output_type": "stream",
     "text": [
      "39557045\n",
      "19542209\n",
      "4468402\n"
     ]
    }
   ],
   "source": [
    "states = ['CA', 'NY', 'KY']\n",
    "population  = [39557045,19542209,4468402]\n",
    "\n",
    "states_pop = dict()\n",
    "states_pop[states[0]] = population[0]\n",
    "states_pop[states[1]] = population[1]\n",
    "states_pop[states[2]] = population[2]\n",
    "print(states_pop['CA'])\n",
    "print(states_pop['NY'])\n",
    "print(states_pop['KY'])\n",
    "# your code here"
   ]
  },
  {
   "cell_type": "markdown",
   "metadata": {},
   "source": [
    "## Practice 3\n",
    "Write a script that creates a dictionary and then uses a `for` loop to display the individual values in the dictionary.\n",
    "\n",
    "You can use the practice dictionary you created earlier in this lesson, if you wish."
   ]
  },
  {
   "cell_type": "code",
   "execution_count": 6,
   "metadata": {},
   "outputs": [
    {
     "name": "stdout",
     "output_type": "stream",
     "text": [
      "Laugh out loud\n",
      "be right back\n",
      "what about you?\n"
     ]
    }
   ],
   "source": [
    "# your code here  \n",
    "acronyms = dict()\n",
    "acronyms['lol'] = 'Laugh out loud'\n",
    "acronyms['brb'] = 'be right back'\n",
    "acronyms['wbu'] = 'what about you?'\n",
    "\n",
    "for i in acronyms.keys():\n",
    "    print(acronyms[i])"
   ]
  },
  {
   "cell_type": "markdown",
   "metadata": {},
   "source": [
    "## Practice 4\n",
    "Create a program that asks the user for a series of key-value pairs and assigns each pair to the same dictionary. Display the contents of the dictionary in  the last step, in the format \"key: value,\" with each key-value pair on a separate line."
   ]
  },
  {
   "cell_type": "code",
   "execution_count": 8,
   "metadata": {},
   "outputs": [
    {
     "name": "stdout",
     "output_type": "stream",
     "text": [
      "lol\n",
      "Laugh out loud\n",
      "brb\n",
      "be right back\n",
      "wbu\n",
      "what about you?\n"
     ]
    }
   ],
   "source": [
    "# your code here\n",
    "acronyms = dict()\n",
    "acronyms['lol'] = 'Laugh out loud'\n",
    "acronyms['brb'] = 'be right back'\n",
    "acronyms['wbu'] = 'what about you?'\n",
    "\n",
    "for key,value in acronyms.items():\n",
    "    print(key)\n",
    "    print(value)"
   ]
  },
  {
   "cell_type": "markdown",
   "metadata": {},
   "source": [
    "## Practice 5\n",
    "The code below includes two lists: one for each state's abbreviation and the other for the full name of each state. Each list presents the states in the same order.\n",
    "\n",
    "Transform the lists into a single dictionary of key-value pairs, where:\n",
    "* The key is the state abbreviation\n",
    "* The value is the full state name\n",
    "\n",
    "Print the list of states from the dictionary, displaying both the abbreviation and the name of the state in the output."
   ]
  },
  {
   "cell_type": "code",
   "execution_count": 10,
   "metadata": {},
   "outputs": [
    {
     "name": "stdout",
     "output_type": "stream",
     "text": [
      "AL\n",
      "Alabama\n",
      "AK\n",
      "Alaska\n",
      "AZ\n",
      "Arizona\n",
      "AR\n",
      "Arkansas\n",
      "CA\n",
      "California\n",
      "CO\n",
      "Colorado\n",
      "CT\n",
      "Connecticut\n",
      "DE\n",
      "Delaware\n",
      "FL\n",
      "Florida\n",
      "GA\n",
      "Georgia\n",
      "HI\n",
      "Hawaii\n",
      "ID\n",
      "Idaho\n",
      "IL\n",
      "Illinois\n",
      "IN\n",
      "Indiana\n",
      "IA\n",
      "Iowa\n",
      "KS\n",
      "Kansas\n",
      "KY\n",
      "Kentucky\n",
      "LA\n",
      "Louisiana\n",
      "ME\n",
      "Maine\n",
      "MD\n",
      "Maryland\n",
      "MA\n",
      "Massachusetts\n",
      "MI\n",
      "Michigan\n",
      "MN\n",
      "Minnesota\n",
      "MS\n",
      "Mississippi\n",
      "MO\n",
      "Missouri\n",
      "MT\n",
      "Montana\n",
      "NE\n",
      "Nebraska\n",
      "NV\n",
      "Nevada\n",
      "NH\n",
      "New Hampshire\n",
      "NJ\n",
      "New Jersey\n",
      "NM\n",
      "New Mexico\n",
      "NY\n",
      "New York\n",
      "NC\n",
      "North Carolina\n",
      "ND\n",
      "North Dakota\n",
      "OH\n",
      "Ohio\n",
      "OK\n",
      "Oklahoma\n",
      "OR\n",
      "Oregon\n",
      "PA\n",
      "Pennsylvania\n",
      "RI\n",
      "Rhode Island\n",
      "SC\n",
      "South Carolina\n",
      "SD\n",
      "South Dakota\n",
      "TN\n",
      "Tennessee\n",
      "TX\n",
      "Texas\n",
      "UT\n",
      "Utah\n",
      "VT\n",
      "Vermont\n",
      "VA\n",
      "Virginia\n",
      "WA\n",
      "Washington\n",
      "WV\n",
      "West Virginia\n",
      "WI\n",
      "Wisconsin\n",
      "WY\n",
      "Wyoming\n"
     ]
    }
   ],
   "source": [
    "states_abbrev = [\"AL\", \"AK\", \"AZ\", \"AR\", \"CA\", \"CO\", \"CT\", \"DE\", \"FL\", \"GA\", \n",
    "          \"HI\", \"ID\", \"IL\", \"IN\", \"IA\", \"KS\", \"KY\", \"LA\", \"ME\", \"MD\", \n",
    "          \"MA\", \"MI\", \"MN\", \"MS\", \"MO\", \"MT\", \"NE\", \"NV\", \"NH\", \"NJ\", \n",
    "          \"NM\", \"NY\", \"NC\", \"ND\", \"OH\", \"OK\", \"OR\", \"PA\", \"RI\", \"SC\", \n",
    "          \"SD\", \"TN\", \"TX\", \"UT\", \"VT\", \"VA\", \"WA\", \"WV\", \"WI\", \"WY\"]\n",
    "\n",
    "states_full = [\"Alabama\", \"Alaska\", \"Arizona\", \"Arkansas\", \"California\", \"Colorado\",\n",
    "  \"Connecticut\", \"Delaware\", \"Florida\", \"Georgia\", \"Hawaii\", \"Idaho\", \"Illinois\",\n",
    "  \"Indiana\", \"Iowa\", \"Kansas\", \"Kentucky\", \"Louisiana\", \"Maine\", \"Maryland\",\n",
    "  \"Massachusetts\", \"Michigan\", \"Minnesota\", \"Mississippi\", \"Missouri\", \"Montana\",\n",
    "  \"Nebraska\", \"Nevada\", \"New Hampshire\", \"New Jersey\", \"New Mexico\", \"New York\",\n",
    "  \"North Carolina\", \"North Dakota\", \"Ohio\", \"Oklahoma\", \"Oregon\", \"Pennsylvania\",\n",
    "  \"Rhode Island\", \"South Carolina\", \"South Dakota\", \"Tennessee\", \"Texas\", \"Utah\",\n",
    "  \"Vermont\", \"Virginia\", \"Washington\", \"West Virginia\", \"Wisconsin\", \"Wyoming\"]\n",
    "\n",
    "\n",
    "\n",
    "# your code here\n",
    "states = {states_abbrev[i]: states_full[i] for i in range(len(states_abbrev))} \n",
    "for key,value in states.items():\n",
    "    print(key)\n",
    "    print(value)"
   ]
  },
  {
   "cell_type": "markdown",
   "metadata": {},
   "source": [
    "##  Practice 6\n",
    "Now let's do the opposite of the last practice activity.\n",
    "\n",
    "Transform the dictionary below into two separate lists. One list should contain the state abbreviations, and the other one should contain the full name of each state. You must preserve the same order in both lists. \n",
    "\n",
    "Print both lists after they have been generated."
   ]
  },
  {
   "cell_type": "code",
   "execution_count": 14,
   "metadata": {},
   "outputs": [
    {
     "name": "stdout",
     "output_type": "stream",
     "text": [
      "['AL', 'AK', 'AZ', 'AR', 'CA', 'CO', 'CT', 'DE', 'FL', 'GA', 'HI', 'ID', 'IL', 'IN', 'IA', 'KS', 'KY', 'LA', 'ME', 'MD', 'MA', 'MI', 'MN', 'MS', 'MO', 'MT', 'NE', 'NV', 'NH', 'NJ', 'NM', 'NY', 'NC', 'ND', 'OH', 'OK', 'OR', 'PA', 'RI', 'SC', 'SD', 'TN', 'TX', 'UT', 'VT', 'VA', 'WA', 'WV', 'WI', 'WY']\n",
      "['Alaska', 'Alabama', 'Arkansas', 'American Samoa', 'Arizona', 'California', 'Colorado', 'Connecticut', 'District of Columbia', 'Delaware', 'Florida', 'Georgia', 'Guam', 'Hawaii', 'Iowa', 'Idaho', 'Illinois', 'Indiana', 'Kansas', 'Kentucky', 'Louisiana', 'Massachusetts', 'Maryland', 'Maine', 'Michigan', 'Minnesota', 'Missouri', 'Northern Mariana Islands', 'Mississippi', 'Montana', 'National', 'North Carolina', 'North Dakota', 'Nebraska', 'New Hampshire', 'New Jersey', 'New Mexico', 'Nevada', 'New York', 'Ohio', 'Oklahoma', 'Oregon', 'Pennsylvania', 'Puerto Rico', 'Rhode Island', 'South Carolina', 'South Dakota', 'Tennessee', 'Texas', 'Utah', 'Virginia', 'Virgin Islands', 'Vermont', 'Washington', 'Wisconsin', 'West Virginia', 'Wyoming']\n",
      "<class 'list'>\n"
     ]
    }
   ],
   "source": [
    "states = {\n",
    "        'AK': 'Alaska',\n",
    "        'AL': 'Alabama',\n",
    "        'AR': 'Arkansas',\n",
    "        'AS': 'American Samoa',\n",
    "        'AZ': 'Arizona',\n",
    "        'CA': 'California',\n",
    "        'CO': 'Colorado',\n",
    "        'CT': 'Connecticut',\n",
    "        'DC': 'District of Columbia',\n",
    "        'DE': 'Delaware',\n",
    "        'FL': 'Florida',\n",
    "        'GA': 'Georgia',\n",
    "        'GU': 'Guam',\n",
    "        'HI': 'Hawaii',\n",
    "        'IA': 'Iowa',\n",
    "        'ID': 'Idaho',\n",
    "        'IL': 'Illinois',\n",
    "        'IN': 'Indiana',\n",
    "        'KS': 'Kansas',\n",
    "        'KY': 'Kentucky',\n",
    "        'LA': 'Louisiana',\n",
    "        'MA': 'Massachusetts',\n",
    "        'MD': 'Maryland',\n",
    "        'ME': 'Maine',\n",
    "        'MI': 'Michigan',\n",
    "        'MN': 'Minnesota',\n",
    "        'MO': 'Missouri',\n",
    "        'MP': 'Northern Mariana Islands',\n",
    "        'MS': 'Mississippi',\n",
    "        'MT': 'Montana',\n",
    "        'NA': 'National',\n",
    "        'NC': 'North Carolina',\n",
    "        'ND': 'North Dakota',\n",
    "        'NE': 'Nebraska',\n",
    "        'NH': 'New Hampshire',\n",
    "        'NJ': 'New Jersey',\n",
    "        'NM': 'New Mexico',\n",
    "        'NV': 'Nevada',\n",
    "        'NY': 'New York',\n",
    "        'OH': 'Ohio',\n",
    "        'OK': 'Oklahoma',\n",
    "        'OR': 'Oregon',\n",
    "        'PA': 'Pennsylvania',\n",
    "        'PR': 'Puerto Rico',\n",
    "        'RI': 'Rhode Island',\n",
    "        'SC': 'South Carolina',\n",
    "        'SD': 'South Dakota',\n",
    "        'TN': 'Tennessee',\n",
    "        'TX': 'Texas',\n",
    "        'UT': 'Utah',\n",
    "        'VA': 'Virginia',\n",
    "        'VI': 'Virgin Islands',\n",
    "        'VT': 'Vermont',\n",
    "        'WA': 'Washington',\n",
    "        'WI': 'Wisconsin',\n",
    "        'WV': 'West Virginia',\n",
    "        'WY': 'Wyoming'\n",
    "}\n",
    "\n",
    "# your code here\n",
    "state_abbrev = list(states.keys())\n",
    "states_full = list(states.values())\n",
    "\n",
    "print(states_abbrev)\n",
    "print(states_full)\n",
    "print(type(states_full))"
   ]
  },
  {
   "cell_type": "markdown",
   "metadata": {},
   "source": [
    "## Practice 7\n",
    "Complete the program below to include the following steps: \n",
    "* Ask the user for a state abbreviation.\n",
    "* Display the full name of the state if it exists in the dictionary or an error message if the abbreviation does not exist in the dictionary."
   ]
  },
  {
   "cell_type": "code",
   "execution_count": 19,
   "metadata": {},
   "outputs": [
    {
     "name": "stdout",
     "output_type": "stream",
     "text": [
      "Please enter a state abbreviation: sfsd\n",
      "That state does not exist\n"
     ]
    }
   ],
   "source": [
    "states = {\n",
    "        'AK': 'Alaska',\n",
    "        'AL': 'Alabama',\n",
    "        'AR': 'Arkansas',\n",
    "        'AS': 'American Samoa',\n",
    "        'AZ': 'Arizona',\n",
    "        'CA': 'California',\n",
    "        'CO': 'Colorado',\n",
    "        'CT': 'Connecticut',\n",
    "        'DE': 'Delaware',\n",
    "        'FL': 'Florida',\n",
    "        'GA': 'Georgia',\n",
    "        'GU': 'Guam',\n",
    "        'HI': 'Hawaii',\n",
    "        'IA': 'Iowa',\n",
    "        'ID': 'Idaho',\n",
    "        'IL': 'Illinois',\n",
    "        'IN': 'Indiana',\n",
    "        'KS': 'Kansas',\n",
    "        'KY': 'Kentucky',\n",
    "        'LA': 'Louisiana',\n",
    "        'MA': 'Massachusetts',\n",
    "        'MD': 'Maryland',\n",
    "        'ME': 'Maine',\n",
    "        'MI': 'Michigan',\n",
    "        'MN': 'Minnesota',\n",
    "        'MO': 'Missouri',\n",
    "        'MP': 'Northern Mariana Islands',\n",
    "        'MS': 'Mississippi',\n",
    "        'MT': 'Montana',\n",
    "        'NA': 'National',\n",
    "        'NC': 'North Carolina',\n",
    "        'ND': 'North Dakota',\n",
    "        'NE': 'Nebraska',\n",
    "        'NH': 'New Hampshire',\n",
    "        'NJ': 'New Jersey',\n",
    "        'NM': 'New Mexico',\n",
    "        'NV': 'Nevada',\n",
    "        'NY': 'New York',\n",
    "        'OH': 'Ohio',\n",
    "        'OK': 'Oklahoma',\n",
    "        'OR': 'Oregon',\n",
    "        'PA': 'Pennsylvania',\n",
    "        'PR': 'Puerto Rico',\n",
    "        'RI': 'Rhode Island',\n",
    "        'SC': 'South Carolina',\n",
    "        'SD': 'South Dakota',\n",
    "        'TN': 'Tennessee',\n",
    "        'TX': 'Texas',\n",
    "        'UT': 'Utah',\n",
    "        'VA': 'Virginia',\n",
    "        'VI': 'Virgin Islands',\n",
    "        'VT': 'Vermont',\n",
    "        'WA': 'Washington',\n",
    "        'WI': 'Wisconsin',\n",
    "        'WV': 'West Virginia',\n",
    "        'WY': 'Wyoming'\n",
    "}\n",
    "\n",
    "# your code here\n",
    "user_input = input(\"Please enter a state abbreviation: \").upper()\n",
    "\n",
    "name = states.get(user_input)\n",
    "\n",
    "if name != None:\n",
    "    print(name)\n",
    "else:\n",
    "    print(\"That state does not exist\")"
   ]
  },
  {
   "cell_type": "markdown",
   "metadata": {},
   "source": [
    "## Practice 8\n",
    "Add the `clear` method in the program below to empty the dictionary and include only the key-value pair `('X10002','Karen')`.  \n",
    "\n",
    "**Hint**: Do not add the Karen record more than one time."
   ]
  },
  {
   "cell_type": "code",
   "execution_count": 20,
   "metadata": {},
   "outputs": [
    {
     "name": "stdout",
     "output_type": "stream",
     "text": [
      "{'X10002': 'Karen'}\n"
     ]
    }
   ],
   "source": [
    "# your code here \n",
    "\n",
    "students_dict = dict()\n",
    "students_dict['X10000']='Michael'\n",
    "students_dict['X10001']='Neil'\n",
    "students_dict.clear()\n",
    "students_dict['X10002']='Karen'\n",
    "\n",
    "print(students_dict)"
   ]
  },
  {
   "cell_type": "markdown",
   "metadata": {},
   "source": [
    "## Practice 9\n",
    "Using the following code as your starting point, complete the following steps:\n",
    "* Create a copy of the `states` dictionary. \n",
    "* Add key-value pairs that represent US districts and territories to the new dictionary.\n",
    " \n",
    "Use this list of districts and territories:\n",
    "* AS: American Samoa\n",
    "* DC: District of Columbia\n",
    "* GU: Guam\n",
    "* NMI: Northern Mariana Islands\n",
    "* PR: Puerto Rico\n",
    "* USVI: U.S. Virgin Islands"
   ]
  },
  {
   "cell_type": "code",
   "execution_count": 3,
   "metadata": {},
   "outputs": [],
   "source": [
    "states = {\n",
    "        'AK': 'Alaska',\n",
    "        'AL': 'Alabama',\n",
    "        'AR': 'Arkansas',\n",
    "        'AZ': 'Arizona',\n",
    "        'CA': 'California',\n",
    "        'CO': 'Colorado',\n",
    "        'CT': 'Connecticut',\n",
    "        'DE': 'Delaware',\n",
    "        'FL': 'Florida',\n",
    "        'GA': 'Georgia',\n",
    "        'HI': 'Hawaii',\n",
    "        'IA': 'Iowa',\n",
    "        'ID': 'Idaho',\n",
    "        'IL': 'Illinois',\n",
    "        'IN': 'Indiana',\n",
    "        'KS': 'Kansas',\n",
    "        'KY': 'Kentucky',\n",
    "        'LA': 'Louisiana',\n",
    "        'MA': 'Massachusetts',\n",
    "        'MD': 'Maryland',\n",
    "        'ME': 'Maine',\n",
    "        'MI': 'Michigan',\n",
    "        'MN': 'Minnesota',\n",
    "        'MO': 'Missouri',\n",
    "        'MP': 'Northern Mariana Islands',\n",
    "        'MS': 'Mississippi',\n",
    "        'MT': 'Montana',\n",
    "        'NA': 'National',\n",
    "        'NC': 'North Carolina',\n",
    "        'ND': 'North Dakota',\n",
    "        'NE': 'Nebraska',\n",
    "        'NH': 'New Hampshire',\n",
    "        'NJ': 'New Jersey',\n",
    "        'NM': 'New Mexico',\n",
    "        'NV': 'Nevada',\n",
    "        'NY': 'New York',\n",
    "        'OH': 'Ohio',\n",
    "        'OK': 'Oklahoma',\n",
    "        'OR': 'Oregon',\n",
    "        'PA': 'Pennsylvania',\n",
    "        'RI': 'Rhode Island',\n",
    "        'SC': 'South Carolina',\n",
    "        'SD': 'South Dakota',\n",
    "        'TN': 'Tennessee',\n",
    "        'TX': 'Texas',\n",
    "        'UT': 'Utah',\n",
    "        'VA': 'Virginia',\n",
    "        'VI': 'Virgin Islands',\n",
    "        'VT': 'Vermont',\n",
    "        'WA': 'Washington',\n",
    "        'WI': 'Wisconsin',\n",
    "        'WV': 'West Virginia',\n",
    "        'WY': 'Wyoming'\n",
    "}\n",
    "\n",
    "# your code here\n",
    "states_copy = states.copy()\n",
    "states_copy['AS'] = 'American Samoa'\n",
    "states_copy['DC'] = 'District of Columbia'\n",
    "states_copy['GU'] = 'Guam'\n",
    "states_copy['NMI'] = 'Nothern Mariana Islands'\n",
    "states_copy['USVI'] = 'U.S. Virgin Islands'"
   ]
  },
  {
   "cell_type": "markdown",
   "metadata": {},
   "source": [
    "## Practice 10\n",
    "Using the `states` dictionary defined below, move all states that start with M to a new dictionary.\n",
    "\n",
    "Requirements:\n",
    "* The new dictionary should include the abbreviation and name for each state moved out of the `states` dictionary.\n",
    "* Use the `pop()` method to remove the states from the `states` dictionary.\n"
   ]
  },
  {
   "cell_type": "code",
   "execution_count": 9,
   "metadata": {},
   "outputs": [
    {
     "name": "stdout",
     "output_type": "stream",
     "text": [
      "{'AK': 'Alaska', 'AL': 'Alabama', 'AR': 'Arkansas', 'AS': 'American Samoa', 'AZ': 'Arizona', 'CA': 'California', 'CO': 'Colorado', 'CT': 'Connecticut', 'DE': 'Delaware', 'FL': 'Florida', 'GA': 'Georgia', 'GU': 'Guam', 'HI': 'Hawaii', 'IA': 'Iowa', 'ID': 'Idaho', 'IL': 'Illinois', 'IN': 'Indiana', 'KS': 'Kansas', 'KY': 'Kentucky', 'LA': 'Louisiana', 'MP': 'Northern Mariana Islands', 'NA': 'National', 'NC': 'North Carolina', 'ND': 'North Dakota', 'NE': 'Nebraska', 'NH': 'New Hampshire', 'NJ': 'New Jersey', 'NM': 'New Mexico', 'NV': 'Nevada', 'NY': 'New York', 'OH': 'Ohio', 'OK': 'Oklahoma', 'OR': 'Oregon', 'PA': 'Pennsylvania', 'PR': 'Puerto Rico', 'RI': 'Rhode Island', 'SC': 'South Carolina', 'SD': 'South Dakota', 'TN': 'Tennessee', 'TX': 'Texas', 'UT': 'Utah', 'VA': 'Virginia', 'VI': 'Virgin Islands', 'VT': 'Vermont', 'WA': 'Washington', 'WI': 'Wisconsin', 'WV': 'West Virginia', 'WY': 'Wyoming'}\n",
      "{'MA': 'Massachusetts', 'MD': 'Maryland', 'ME': 'Maine', 'MI': 'Michigan', 'MN': 'Minnesota', 'MO': 'Missouri', 'MS': 'Mississippi', 'MT': 'Montana'}\n"
     ]
    }
   ],
   "source": [
    "states = {\n",
    "        'AK': 'Alaska',\n",
    "        'AL': 'Alabama',\n",
    "        'AR': 'Arkansas',\n",
    "        'AS': 'American Samoa',\n",
    "        'AZ': 'Arizona',\n",
    "        'CA': 'California',\n",
    "        'CO': 'Colorado',\n",
    "        'CT': 'Connecticut',\n",
    "        'DE': 'Delaware',\n",
    "        'FL': 'Florida',\n",
    "        'GA': 'Georgia',\n",
    "        'GU': 'Guam',\n",
    "        'HI': 'Hawaii',\n",
    "        'IA': 'Iowa',\n",
    "        'ID': 'Idaho',\n",
    "        'IL': 'Illinois',\n",
    "        'IN': 'Indiana',\n",
    "        'KS': 'Kansas',\n",
    "        'KY': 'Kentucky',\n",
    "        'LA': 'Louisiana',\n",
    "        'MA': 'Massachusetts',\n",
    "        'MD': 'Maryland',\n",
    "        'ME': 'Maine',\n",
    "        'MI': 'Michigan',\n",
    "        'MN': 'Minnesota',\n",
    "        'MO': 'Missouri',\n",
    "        'MP': 'Northern Mariana Islands',\n",
    "        'MS': 'Mississippi',\n",
    "        'MT': 'Montana',\n",
    "        'NA': 'National',\n",
    "        'NC': 'North Carolina',\n",
    "        'ND': 'North Dakota',\n",
    "        'NE': 'Nebraska',\n",
    "        'NH': 'New Hampshire',\n",
    "        'NJ': 'New Jersey',\n",
    "        'NM': 'New Mexico',\n",
    "        'NV': 'Nevada',\n",
    "        'NY': 'New York',\n",
    "        'OH': 'Ohio',\n",
    "        'OK': 'Oklahoma',\n",
    "        'OR': 'Oregon',\n",
    "        'PA': 'Pennsylvania',\n",
    "        'PR': 'Puerto Rico',\n",
    "        'RI': 'Rhode Island',\n",
    "        'SC': 'South Carolina',\n",
    "        'SD': 'South Dakota',\n",
    "        'TN': 'Tennessee',\n",
    "        'TX': 'Texas',\n",
    "        'UT': 'Utah',\n",
    "        'VA': 'Virginia',\n",
    "        'VI': 'Virgin Islands',\n",
    "        'VT': 'Vermont',\n",
    "        'WA': 'Washington',\n",
    "        'WI': 'Wisconsin',\n",
    "        'WV': 'West Virginia',\n",
    "        'WY': 'Wyoming'\n",
    "}\n",
    "\n",
    "# your code here\n",
    "\n",
    "m_states = {}\n",
    "\n",
    "for key,value in states.items():\n",
    "    if value[0] == 'M':\n",
    "        m_states[key] = value\n",
    "\n",
    "for key in m_states:\n",
    "    states.pop(key)\n",
    "\n",
    "print(states)\n",
    "print(m_states)"
   ]
  },
  {
   "cell_type": "markdown",
   "metadata": {},
   "source": [
    "## Practice 11\n",
    "Use the `update()` method to change the dictionary below to include information about yourself. Include at least two hobbies and use a random address, if you wish."
   ]
  },
  {
   "cell_type": "code",
   "execution_count": 10,
   "metadata": {},
   "outputs": [
    {
     "name": "stdout",
     "output_type": "stream",
     "text": [
      "{'name': 'Sam', 'hobbies': ['fishing', 'dancing'], 'address': '1 Main Street'}\n"
     ]
    }
   ],
   "source": [
    "info = {\n",
    "  \"name\": \"Robert\",\n",
    "  \"hobbies\": ['fishing','dancing'],\n",
    "  \"address\": \"123 Main Street, Louisville, KY\"\n",
    "}\n",
    "info.update({'name':'Sam'})\n",
    "info.update({'address':'1 Main Street'})\n",
    "print(info)"
   ]
  },
  {
   "cell_type": "markdown",
   "metadata": {},
   "source": [
    "## Practice 12\n",
    "Update the program below to include the following tasks:\n",
    "* Ask the user for an input key.\n",
    "* Check if the key exists in the dictionary. If it does, display the value.\n",
    "* If the key doesn't exist, display an appropriate error message. "
   ]
  },
  {
   "cell_type": "code",
   "execution_count": 13,
   "metadata": {},
   "outputs": [
    {
     "name": "stdout",
     "output_type": "stream",
     "text": [
      "Please enter a key: name\n",
      "Robert\n"
     ]
    }
   ],
   "source": [
    "info = {\n",
    "  \"name\": \"Robert\",\n",
    "  \"hobbies\": ['fishing','dancing'],\n",
    "  \"address\": \"123 Main Street, Louisville, KY\"\n",
    "}\n",
    "\n",
    "# your code here \n",
    "input_key = input(\"Please enter a key: \")\n",
    "if input_key in info.keys():\n",
    "    print(info[input_key])\n",
    "else:\n",
    "    print(\"That key does not exist!\")"
   ]
  },
  {
   "cell_type": "code",
   "execution_count": null,
   "metadata": {},
   "outputs": [],
   "source": []
  }
 ],
 "metadata": {
  "kernelspec": {
   "display_name": "Python 3",
   "language": "python",
   "name": "python3"
  },
  "language_info": {
   "codemirror_mode": {
    "name": "ipython",
    "version": 3
   },
   "file_extension": ".py",
   "mimetype": "text/x-python",
   "name": "python",
   "nbconvert_exporter": "python",
   "pygments_lexer": "ipython3",
   "version": "3.7.3"
  }
 },
 "nbformat": 4,
 "nbformat_minor": 2
}
